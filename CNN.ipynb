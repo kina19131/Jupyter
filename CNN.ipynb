{
  "nbformat": 4,
  "nbformat_minor": 0,
  "metadata": {
    "colab": {
      "name": "Assignment_4.ipynb",
      "provenance": [],
      "collapsed_sections": [],
      "include_colab_link": true
    },
    "kernelspec": {
      "name": "python3",
      "display_name": "Python 3"
    },
    "accelerator": "GPU"
  },
  "cells": [
    {
      "cell_type": "markdown",
      "metadata": {
        "id": "view-in-github",
        "colab_type": "text"
      },
      "source": [
        "<a href=\"https://colab.research.google.com/github/kina19131/Machine-Learning-Algorithm/blob/master/Assignment_4.ipynb\" target=\"_parent\"><img src=\"https://colab.research.google.com/assets/colab-badge.svg\" alt=\"Open In Colab\"/></a>"
      ]
    },
    {
      "cell_type": "markdown",
      "metadata": {
        "id": "oz9MhPEUMrkC"
      },
      "source": [
        "**Assignment**: Designing and Tuning a Convolutional Neural Network (CNN)\n",
        "\n",
        "**Assignment Description**: There are four parts to this assignment\n",
        "\n",
        "1.   Building a CNN\n",
        "2.   Training and Tuning a CNN\n",
        "3.   Trying Out a New Dataset\n",
        "4.   Open-Ended Exploration\n",
        "\n",
        "You will be largely guided through the first two parts. The third and fourth part are discussion based questions. \n",
        "\n",
        "**Before the experiment, make sure that you have GPU enabled. This setting can be found under *Tools --> Settings***"
      ]
    },
    {
      "cell_type": "code",
      "metadata": {
        "id": "jHvVs2GqXxNF"
      },
      "source": [
        "#Install Objax\n",
        "!pip --quiet install  objax\n",
        "import objax"
      ],
      "execution_count": null,
      "outputs": []
    },
    {
      "cell_type": "code",
      "metadata": {
        "id": "xqQf8f2RBDcx"
      },
      "source": [
        "import tensorflow as tf \n",
        "import tensorflow_datasets as tfds\n",
        "import numpy as np\n",
        "import jax.numpy as jn\n",
        "import random \n",
        "import matplotlib.pyplot as plt"
      ],
      "execution_count": null,
      "outputs": []
    },
    {
      "cell_type": "markdown",
      "metadata": {
        "id": "w_7vcWRFO39r"
      },
      "source": [
        "##**Part 1. Building a CNN** \n",
        "\n",
        "Before we build our CNN model, let's first import a dataset. For our experiment, we load the CIFAR10 dataset from Tensorflow's dataset repository. The CIFAR10 dataset consists of 60,000 32x32 colour images in 10 classes, with 6000 images per class. The 10 different classes represent airplanes, cars, birds, cats, deer, dogs, frogs, horses, ships, and trucks.\n",
        "\n",
        "After loading the dataset, we split the dataset into training, validation and test set. The dataset is originally stored as 50,000 training examples and 10,000 test examples. Instead, we will combine them together and make our own split.\n",
        "\n",
        "Do not change split ratio for now."
      ]
    },
    {
      "cell_type": "code",
      "metadata": {
        "id": "weEeadjHQw9t",
        "colab": {
          "base_uri": "https://localhost:8080/"
        },
        "outputId": "9b718d75-1d65-4533-ba41-3c0f76e7a38d"
      },
      "source": [
        "#.load_data() by default returns a split between training and test set. \n",
        "# We then adjust the training set into a format that can be accepted by our CNN\n",
        "(X_train, Y_train), (X_test, Y_test) = tf.keras.datasets.cifar10.load_data()\n",
        "X_train = X_train.transpose(0, 3, 1, 2) / 255.0\n",
        "Y_train = Y_train.flatten()\n",
        "X_test = X_test.transpose(0, 3, 1, 2) / 255.0\n",
        "Y_test = Y_test.flatten()\n",
        "\n",
        "np.random.seed(1)\n",
        "# To create a validation set, we first concate the original splitted dataset into a single dataset \n",
        "# then randomly shuffle the images and labels in the same way (seed = 1)\n",
        "X_data = np.concatenate([X_train, X_test], axis = 0)\n",
        "Y_data = np.concatenate([Y_train, Y_test], axis = 0)\n",
        "\n",
        "N = np.arange(len(X_data))\n",
        "np.random.shuffle(N)\n",
        "X_data = X_data[N]\n",
        "Y_data = Y_data[N]\n",
        "\n",
        "#Next, we partition the randomly shuffled dataset into training, validation and testset according a ratio\n",
        "train_ratio = 0.80\n",
        "valid_ratio = 0.1\n",
        "n_train = int(len(X_data) * train_ratio)\n",
        "n_valid = int(len(X_data) * valid_ratio)\n",
        "\n",
        "X_train, X_valid, X_test = X_data[:n_train], X_data[n_train:n_train+n_valid], X_data[n_train+n_valid:]\n",
        "Y_train, Y_valid, Y_test = Y_data[:n_train], Y_data[n_train:n_train+n_valid], Y_data[n_train+n_valid:]"
      ],
      "execution_count": null,
      "outputs": [
        {
          "output_type": "stream",
          "name": "stdout",
          "text": [
            "Downloading data from https://www.cs.toronto.edu/~kriz/cifar-10-python.tar.gz\n",
            "170500096/170498071 [==============================] - 6s 0us/step\n",
            "170508288/170498071 [==============================] - 6s 0us/step\n"
          ]
        }
      ]
    },
    {
      "cell_type": "markdown",
      "metadata": {
        "id": "2HaTj3AG4xCP"
      },
      "source": [
        "## PART 1.1 \n",
        "How many iterations will it take to go through the entire training set given the number of training examples yielded by the data split? \n",
        "> $\\frac{60,000 examples\\;*\\;0.8}{32\\;per\\;batch} = 1500$ iterations per epoch\n",
        "\n",
        "How many iterations are there in 30 epochs? \n",
        "Recall that one epoch is the number of iterations needed to train over the entire dataset.\n",
        "> $1500\\;iterations/epochs\\;*\\;30\\;epochs\\;=\\;45,000iterations$\n",
        "\n",
        "\n"
      ]
    },
    {
      "cell_type": "markdown",
      "metadata": {
        "id": "szDmexFGT7Qs"
      },
      "source": [
        "\n",
        "Next we will construct a **Base Model**, which in our case is a small CNN."
      ]
    },
    {
      "cell_type": "code",
      "metadata": {
        "id": "_Eeh6jvfBV4p"
      },
      "source": [
        "class ConvNet(objax.Module):\n",
        "  def __init__(self, number_of_channels = 3, number_of_classes = 10):\n",
        "    self.conv_1 = objax.nn.Sequential([objax.nn.Conv2D(number_of_channels, 16, 2), objax.functional.relu])\n",
        "    self.conv_2 = objax.nn.Sequential([objax.nn.Conv2D(16, 32, 2), objax.functional.relu])\n",
        "    self.linear = objax.nn.Linear(32, number_of_classes)\n",
        "\n",
        "  def __call__(self, x):\n",
        "    x = objax.functional.max_pool_2d(self.conv_1(x), 2, 2)\n",
        "    x = self.conv_2(x)\n",
        "  \n",
        "    x = x.mean((2,3)) #<--- global average pooling \n",
        "    x = self.linear(x)\n",
        "    return x\n",
        "\n",
        "#The following line creates the CNN\n",
        "model = ConvNet()\n",
        "#You can examine the architecture of our CNN by calling model.vars()"
      ],
      "execution_count": null,
      "outputs": []
    },
    {
      "cell_type": "markdown",
      "metadata": {
        "id": "Crz2dQZBds89"
      },
      "source": [
        "Before we train our conv net, let's try to better understand concepts of convolution filter and linear layer. In the following, you will take the first very image of the training set, create a simple convolution routine, and show that our own routine matches what Objax returns. \n",
        "\n"
      ]
    },
    {
      "cell_type": "code",
      "metadata": {
        "id": "Epa7ETf6XddH",
        "colab": {
          "base_uri": "https://localhost:8080/",
          "height": 283
        },
        "outputId": "00185b6b-c405-480e-9e2d-327dc67d2fa3"
      },
      "source": [
        "#Let's plot the first image in the training set.\n",
        "plt.imshow(X_train[0].transpose(1,2,0))"
      ],
      "execution_count": null,
      "outputs": [
        {
          "output_type": "execute_result",
          "data": {
            "text/plain": [
              "<matplotlib.image.AxesImage at 0x7f1560a40150>"
            ]
          },
          "metadata": {},
          "execution_count": 5
        },
        {
          "output_type": "display_data",
          "data": {
            "image/png": "[encoded data removed]",
            "text/plain": [
              "<Figure size 432x288 with 1 Axes>"
            ]
          },
          "metadata": {
            "needs_background": "light"
          }
        }
      ]
    },
    {
      "cell_type": "markdown",
      "metadata": {
        "id": "PQjS06vgXZ7r"
      },
      "source": [
        "Next, we will pass our image through Objax's convolution routine. Carefully examine the following code and try to understand the dimension of the filter weights and the output. "
      ]
    },
    {
      "cell_type": "code",
      "metadata": {
        "id": "vFBbJHBpXXUc",
        "colab": {
          "base_uri": "https://localhost:8080/"
        },
        "outputId": "0f6bad10-e1d3-4682-c498-e32291b1f260"
      },
      "source": [
        "# We append the first image with a batch size of 1 so it can be fed into a convolution layer\n",
        "my_image = np.expand_dims(X_train[0], 0)\n",
        "\n",
        "#Consider a very simple CNN filter with stride = 1 and no padding ('VALID').\n",
        "Conv2d = objax.nn.Conv2D(nin = 3, nout = 2, k = 1, strides = 1, padding = 'VALID', use_bias = False)\n",
        "\n",
        "filter_weights = Conv2d.w.value #This is the initial weight of the filter, which we gradually update when training, we ignore bias for now\n",
        "\n",
        "print(\"Filter weights:\", filter_weights)\n",
        "print(\"Conv output:\", Conv2d(my_image))\n",
        "print(\"Conv output shape:\", np.shape(Conv2d(my_image)))"
      ],
      "execution_count": null,
      "outputs": [
        {
          "output_type": "stream",
          "name": "stdout",
          "text": [
            "Filter weights: [[[[ 0.7304995   0.6803058 ]\n",
            "   [-1.0113425  -0.19040492]\n",
            "   [-0.3848219   0.6740011 ]]]]\n",
            "Conv output: [[[[-0.10271908 -0.10010862 -0.09076816 ... -0.7420423  -0.73912483\n",
            "    -0.7374622 ]\n",
            "   [-0.12882358 -0.11180528 -0.11687267 ... -0.73105437 -0.7434611\n",
            "    -0.7408506 ]\n",
            "   [-0.13143402 -0.11577132 -0.12992492 ... -0.6991137  -0.7174033\n",
            "    -0.7156083 ]\n",
            "   ...\n",
            "   [-0.11485983 -0.10963893 -0.10963893 ... -0.11178758 -0.11439803\n",
            "    -0.12222939]\n",
            "   [-0.09658667 -0.09136578 -0.09136578 ... -0.1274503  -0.12483985\n",
            "    -0.12483985]\n",
            "   [-0.08614487 -0.08353443 -0.08614487 ... -0.16399662 -0.16138618\n",
            "    -0.15355481]]\n",
            "\n",
            "  [[ 0.10279882  0.0982345   0.08189839 ...  0.75253254  0.7320599\n",
            "     0.7214626 ]\n",
            "   [ 0.14844204  0.1263671   0.1275416  ...  0.77934486  0.7626404\n",
            "     0.7580761 ]\n",
            "   [ 0.15300636  0.12562042  0.15036322 ...  0.79253834  0.77845234\n",
            "     0.775332  ]\n",
            "   ...\n",
            "   [ 0.20083015  0.1917015   0.1917015  ...  0.27218536  0.27674967\n",
            "     0.29044265]\n",
            "   [ 0.1688799   0.15975127  0.15975127 ...  0.29957128  0.29500696\n",
            "     0.29500696]\n",
            "   [ 0.15062262  0.14605829  0.15062262 ...  0.36347178  0.35890746\n",
            "     0.3452145 ]]]]\n",
            "Conv output shape: (1, 2, 32, 32)\n"
          ]
        }
      ]
    },
    {
      "cell_type": "markdown",
      "metadata": {
        "id": "KsDg8yateSuH"
      },
      "source": [
        "##1.2\n",
        "\n",
        "**In the cells below, you will create your own convolution routine that takes in the image and the initial weights used by Objax's own convolution routine (Conv2d.w.value) and show that your convolution routine returns the same value than Objax's.**\n",
        "\n",
        "A simple implementation only requires 4 FOR loops. You may wish to draw inspiration from https://objax.readthedocs.io/en/latest/objax/nn.html?highlight=objax.nn.Conv2D#objax.nn.Conv2D"
      ]
    },
    {
      "cell_type": "code",
      "metadata": {
        "id": "f5B6K9gyXTAx",
        "colab": {
          "base_uri": "https://localhost:8080/"
        },
        "outputId": "cd45d0c6-a19b-4858-c5c8-16d24f8b6021"
      },
      "source": [
        "#Solution to the above problem\n",
        "my_conv_output = np.zeros((1,2, 32, 32))\n",
        "def my_conv_net(my_image, initial_filter_weights):\n",
        "  for n in range(1): # 1 because we are doing for 1 image\n",
        "    for c in range (2): # output channel = 2\n",
        "      for h in range (32): # image height = 32\n",
        "        for w in range (32): # image weight = 32\n",
        "          for t in range (3): # input depth = 3 := R, G, B\n",
        "            for i in range (1): # kernel height\n",
        "              for j in range (1): # kernel width\n",
        "                my_conv_output[n, c, h, w] += my_image[n,t,i+h,j+w]*initial_filter_weights[i,j,t,c]\n",
        "  return my_conv_output\n",
        "'''\n",
        "Even though for the completeness, included 7 for loops for 7 parameters, \n",
        "this can be condensed to 4 parameters. This is due to n = i = j = 1 from given \n",
        "information. Since they are 1's, there is no need to be for-looped.\n",
        "'''\n",
        "\n",
        "my_conv_output = my_conv_net(my_image, filter_weights)\n",
        "\n",
        "print(my_conv_output)"
      ],
      "execution_count": null,
      "outputs": [
        {
          "output_type": "stream",
          "name": "stdout",
          "text": [
            "[[[[-0.10271907 -0.10010862 -0.09076816 ... -0.7420423  -0.73912489\n",
            "    -0.73746228]\n",
            "   [-0.12882358 -0.11180527 -0.11687266 ... -0.73105443 -0.74346107\n",
            "    -0.74085063]\n",
            "   [-0.13143402 -0.11577132 -0.12992492 ... -0.69911373 -0.71740329\n",
            "    -0.71560836]\n",
            "   ...\n",
            "   [-0.11485984 -0.10963892 -0.10963892 ... -0.11178758 -0.11439803\n",
            "    -0.12222938]\n",
            "   [-0.09658667 -0.09136577 -0.09136577 ... -0.12745032 -0.12483985\n",
            "    -0.12483985]\n",
            "   [-0.08614486 -0.08353443 -0.08614486 ... -0.16399662 -0.16138616\n",
            "    -0.15355483]]\n",
            "\n",
            "  [[ 0.10279882  0.09823449  0.08189839 ...  0.75253248  0.7320599\n",
            "     0.72146261]\n",
            "   [ 0.14844204  0.12636711  0.1275416  ...  0.7793448   0.76264036\n",
            "     0.75807607]\n",
            "   [ 0.15300636  0.12562042  0.15036322 ...  0.7925384   0.7784524\n",
            "     0.77533197]\n",
            "   ...\n",
            "   [ 0.20083013  0.1917015   0.1917015  ...  0.27218536  0.27674967\n",
            "     0.29044265]\n",
            "   [ 0.1688799   0.15975127  0.15975127 ...  0.29957128  0.29500696\n",
            "     0.29500696]\n",
            "   [ 0.15062262  0.14605829  0.15062262 ...  0.36347181  0.35890746\n",
            "     0.34521449]]]]\n"
          ]
        }
      ]
    },
    {
      "cell_type": "markdown",
      "metadata": {
        "id": "YhWfzmjVkiTa"
      },
      "source": [
        "##1.3\n"
      ]
    },
    {
      "cell_type": "code",
      "metadata": {
        "id": "q7hngIUNXIMQ",
        "colab": {
          "base_uri": "https://localhost:8080/"
        },
        "outputId": "94f38123-2581-4406-de81-de55ed39de1a"
      },
      "source": [
        "#Check that .mean((2,3)) rearranges your image\n",
        "my_conv_output.mean((2,3))"
      ],
      "execution_count": null,
      "outputs": [
        {
          "output_type": "execute_result",
          "data": {
            "text/plain": [
              "array([[-0.1400071 ,  0.35388903]])"
            ]
          },
          "metadata": {},
          "execution_count": 8
        }
      ]
    },
    {
      "cell_type": "markdown",
      "metadata": {
        "id": "d9dbovOwiVDE"
      },
      "source": [
        "The outputs of last convolution layer is typically rearranged so it can be fed into a linear layer. Check that calling .mean((2,3)) rearranges the output of your convolution routine by examining the shape of the output. (Not graded) Think about alternative ways of rearranging the output from the convolution layer. "
      ]
    },
    {
      "cell_type": "markdown",
      "metadata": {
        "id": "xTWfvL0mis3D"
      },
      "source": [
        "Take your rearranged output and feed it into a linear layer of appropriate size. Here is an example:\n",
        "\n",
        "```\n",
        "Linear_Layer = objax.nn.Linear(N, 1)\n",
        "Y = Linear_Layer(X)\n",
        "```\n",
        "Next, extract the weights and bias of the linear layer using \n",
        "```\n",
        "Linear_Layer.w.value\n",
        "Linear_Layer.b.value\n",
        "```\n",
        "**Using these values, write one line of code that manually implements the linear layer. Show that it provides the same value as Objax's own linear layer.** \n",
        "\n"
      ]
    },
    {
      "cell_type": "code",
      "metadata": {
        "id": "Uq-TkFpgXDC7",
        "colab": {
          "base_uri": "https://localhost:8080/"
        },
        "outputId": "0ccf848c-5a96-48cc-de70-bf2c9c92fbd2"
      },
      "source": [
        "#Objax's linear layer\n",
        "Linear_Layer = objax.nn.Linear(2, 1) # N = dimension of output\n",
        "\n",
        "\n",
        "output = np.dot(my_conv_output.mean((2,3)), Linear_Layer.w.value) # My linear layer\n",
        "Obj_linear = Linear_Layer(my_conv_output.mean((2,3))) # Objax's linear Layer\n",
        "\n",
        "print(\"Objax Linear: \", Obj_linear)\n",
        "print(\"My Linear: \", output)\n",
        "print(\"Objax Linear and My Linear are the same: \", Obj_linear == output)\n"
      ],
      "execution_count": null,
      "outputs": [
        {
          "output_type": "stream",
          "name": "stdout",
          "text": [
            "Objax Linear:  [[-0.09563078]]\n",
            "My Linear:  [[-0.09563078]]\n",
            "Objax Linear and My Linear are the same:  [[ True]]\n"
          ]
        }
      ]
    },
    {
      "cell_type": "markdown",
      "metadata": {
        "id": "4Wardf_IkdMO"
      },
      "source": [
        "## 1.4\n",
        "**Explain in a short paragraph what is the difference between the training and validation set.**\n",
        "\n",
        "\n",
        "Training set is used to train the model. You can obtain weights and biases for the model by running it through the training set. \n",
        "\n",
        "The purpose of the validation set is slightly different. It works as an unbiased evaluation of the model fit and it serves the purpose of tunning the hyperparameters. "
      ]
    },
    {
      "cell_type": "markdown",
      "metadata": {
        "id": "96QQXl3d2kZn"
      },
      "source": [
        "**You have now completed Part 1 of the assignment. Good job!**\n"
      ]
    },
    {
      "cell_type": "markdown",
      "metadata": {
        "id": "2kqaH75UUaSE"
      },
      "source": [
        "##**Part 2. Training and Tuning a CNN**\n",
        "\n",
        "The following starter code trains the neural network in Part 1. However, the optimizer and batch sampling routine are left for you to implement. Complete the lines that says #PUT YOUR CODE HERE#\n",
        "\n",
        "Afterwards, train the model, and observe the training/validation loss and accuracy plots. You should observe that the validation accuracy is low and stagnates after a few epochs."
      ]
    },
    {
      "cell_type": "markdown",
      "metadata": {
        "id": "3vLro5QH4uX2"
      },
      "source": [
        "##2.1"
      ]
    },
    {
      "cell_type": "code",
      "metadata": {
        "id": "zBcHWoCl0URZ"
      },
      "source": [
        "#Define loss function as averaged value of of cross entropies\n",
        "def loss_function(x, labels):\n",
        "    logit = model(x)\n",
        "    return objax.functional.loss.cross_entropy_logits_sparse(logit, labels).mean()\n",
        "\n",
        "#Define a prediction function\n",
        "predict = objax.Jit(lambda x: objax.functional.softmax(model(x)), model.vars()) \n",
        "\n",
        "#Create an object that can be used to calculate the gradient and value of loss_function\n",
        "gv= objax.GradValues(loss_function, model.vars())\n",
        "\n",
        "#Create an object that can be used to provide trainable variables in the model\n",
        "tv = objax.ModuleList(objax.TrainRef(x) for x in model.vars().subset(objax.TrainVar))\n",
        "\n",
        "#Training routine\n",
        "def train_op(x, y, learning_rate):\n",
        "    lr = learning_rate\n",
        "    gradient, loss_value = gv(x, y)   # calculate gradient and loss value \"backprop\"\n",
        "    #next we update the trainable parameter using SGD and similar procedure\n",
        "    for grad, params in zip(gradient, tv.vars()):\n",
        "         params.value = params.value - lr*grad          \n",
        "    return loss_value                      # return loss value\n",
        "\n",
        "#make train_op (much) faster using JIT compilation\n",
        "train_op = objax.Jit(train_op, gv.vars() + tv.vars())"
      ],
      "execution_count": null,
      "outputs": []
    },
    {
      "cell_type": "markdown",
      "metadata": {
        "id": "WR6ytKou4x8x"
      },
      "source": [
        "##2.2"
      ]
    },
    {
      "cell_type": "code",
      "metadata": {
        "id": "hGPpVTfG0Ug1"
      },
      "source": [
        "def train(EPOCHS = 20, BATCH = 32, LEARNING_RATE = 9e-4):\n",
        "  avg_train_loss_epoch = []\n",
        "  avg_val_loss_epoch = []\n",
        "  train_acc_epoch = []\n",
        "  val_acc_epoch = []\n",
        "\n",
        "  for epoch in range(EPOCHS):\n",
        "      avg_train_loss = 0 # (averaged) training loss per batch\n",
        "      avg_val_loss =  0  # (averaged) validation loss per batch\n",
        "      train_acc = 0      # training accuracy per batch\n",
        "      val_acc = 0        # validation accuracy per batch\n",
        "\n",
        "      # shuffle the examples prior to training to remove correlation \n",
        "      train_indices = np.arange(len(X_train)) \n",
        "      np.random.shuffle(train_indices)\n",
        "      for it in range(0, X_train.shape[0], BATCH): \n",
        "          batch = train_indices[it:it+BATCH] #PUT YOUR CODE HERE#\n",
        "          avg_train_loss += float(train_op(X_train[batch], Y_train[batch], LEARNING_RATE)[0]) * len(batch)\n",
        "          train_prediction = predict(X_train[batch]).argmax(1)\n",
        "          train_acc += (np.array(train_prediction).flatten() == Y_train[batch]).sum()\n",
        "      train_acc_epoch.append(train_acc/X_train.shape[0])\n",
        "      avg_train_loss_epoch.append(avg_train_loss/X_train.shape[0])\n",
        "      \n",
        "\n",
        "      # run validation\n",
        "      val_indices = np.arange(len(X_valid)) \n",
        "      np.random.shuffle(val_indices)    \n",
        "      for it in range(0, X_valid.shape[0], BATCH):\n",
        "          batch = val_indices[it:it+BATCH] #PUT YOUR CODE HERE#\n",
        "          avg_val_loss += float(loss_function(X_valid[batch], Y_valid[batch])) * len(batch)\n",
        "          val_prediction = predict(X_valid[batch]).argmax(1)\n",
        "          val_acc += (np.array(val_prediction).flatten() == Y_valid[batch]).sum()\n",
        "      val_acc_epoch.append(val_acc/X_valid.shape[0])\n",
        "      avg_val_loss_epoch.append(avg_val_loss/X_valid.shape[0])\n",
        "\n",
        "      print('Epoch %04d  Training Loss %.2f Validation Loss %.2f Training Accuracy %.2f Validation Accuracy %.2f' % (epoch + 1, avg_train_loss/X_train.shape[0], avg_val_loss/X_valid.shape[0], 100*train_acc/X_train.shape[0], 100*val_acc/X_valid.shape[0]))\n",
        "  \n",
        "  #Plot training loss\n",
        "  plt.title(\"Train vs Validation Loss\")\n",
        "  plt.plot(avg_train_loss_epoch, label=\"Train\")\n",
        "  plt.plot(avg_val_loss_epoch, label=\"Validation\")\n",
        "  plt.xlabel(\"Epoch\")\n",
        "  plt.ylabel(\"Loss\")\n",
        "  plt.legend(loc='best')\n",
        "  plt.show()\n",
        "\n",
        "  plt.title(\"Train vs Validation Accuracy\")\n",
        "  plt.plot(train_acc_epoch, label=\"Train\")\n",
        "  plt.plot(val_acc_epoch, label=\"Validation\")\n",
        "  plt.xlabel(\"Epoch\")\n",
        "  plt.ylabel(\"Accuracy (%)\")\n",
        "  plt.legend(loc='best')\n",
        "  plt.show()"
      ],
      "execution_count": null,
      "outputs": []
    },
    {
      "cell_type": "markdown",
      "metadata": {
        "id": "2hGcxs9a4okO"
      },
      "source": [
        "##2.3 "
      ]
    },
    {
      "cell_type": "code",
      "metadata": {
        "id": "8YqWtV5VYW45",
        "colab": {
          "base_uri": "https://localhost:8080/",
          "height": 920
        },
        "outputId": "432f9d8b-7e02-4046-d0aa-6d504b1558f1"
      },
      "source": [
        "train()"
      ],
      "execution_count": null,
      "outputs": [
        {
          "output_type": "stream",
          "name": "stdout",
          "text": [
            "Epoch 0001  Training Loss 2.30 Validation Loss 2.30 Training Accuracy 9.88 Validation Accuracy 10.03\n",
            "Epoch 0002  Training Loss 2.30 Validation Loss 2.29 Training Accuracy 9.78 Validation Accuracy 10.02\n",
            "Epoch 0003  Training Loss 2.29 Validation Loss 2.29 Training Accuracy 9.90 Validation Accuracy 10.32\n",
            "Epoch 0004  Training Loss 2.29 Validation Loss 2.29 Training Accuracy 10.52 Validation Accuracy 10.58\n",
            "Epoch 0005  Training Loss 2.29 Validation Loss 2.29 Training Accuracy 10.49 Validation Accuracy 11.25\n",
            "Epoch 0006  Training Loss 2.29 Validation Loss 2.28 Training Accuracy 11.10 Validation Accuracy 10.77\n",
            "Epoch 0007  Training Loss 2.28 Validation Loss 2.28 Training Accuracy 11.10 Validation Accuracy 11.62\n",
            "Epoch 0008  Training Loss 2.28 Validation Loss 2.28 Training Accuracy 11.50 Validation Accuracy 12.08\n",
            "Epoch 0009  Training Loss 2.28 Validation Loss 2.27 Training Accuracy 11.84 Validation Accuracy 12.25\n",
            "Epoch 0010  Training Loss 2.27 Validation Loss 2.27 Training Accuracy 12.33 Validation Accuracy 12.58\n",
            "Epoch 0011  Training Loss 2.27 Validation Loss 2.27 Training Accuracy 12.70 Validation Accuracy 12.90\n",
            "Epoch 0012  Training Loss 2.26 Validation Loss 2.26 Training Accuracy 12.94 Validation Accuracy 13.13\n",
            "Epoch 0013  Training Loss 2.26 Validation Loss 2.26 Training Accuracy 13.40 Validation Accuracy 13.50\n",
            "Epoch 0014  Training Loss 2.25 Validation Loss 2.25 Training Accuracy 13.62 Validation Accuracy 13.85\n",
            "Epoch 0015  Training Loss 2.25 Validation Loss 2.24 Training Accuracy 14.31 Validation Accuracy 14.37\n",
            "Epoch 0016  Training Loss 2.24 Validation Loss 2.24 Training Accuracy 14.90 Validation Accuracy 14.60\n",
            "Epoch 0017  Training Loss 2.24 Validation Loss 2.23 Training Accuracy 15.56 Validation Accuracy 15.55\n",
            "Epoch 0018  Training Loss 2.23 Validation Loss 2.22 Training Accuracy 16.02 Validation Accuracy 16.88\n",
            "Epoch 0019  Training Loss 2.22 Validation Loss 2.21 Training Accuracy 16.91 Validation Accuracy 17.40\n",
            "Epoch 0020  Training Loss 2.21 Validation Loss 2.21 Training Accuracy 17.56 Validation Accuracy 18.27\n"
          ]
        },
        {
          "output_type": "display_data",
          "data": {
            "image/png": "[encoded data removed]",
            "text/plain": [
              "<Figure size 432x288 with 1 Axes>"
            ]
          },
          "metadata": {
            "needs_background": "light"
          }
        },
        {
          "output_type": "display_data",
          "data": {
            "image/png": "[encoded data removed]",
            "text/plain": [
              "<Figure size 432x288 with 1 Axes>"
            ]
          },
          "metadata": {
            "needs_background": "light"
          }
        }
      ]
    },
    {
      "cell_type": "markdown",
      "metadata": {
        "id": "hluN6UIbNyj7"
      },
      "source": [
        "##2.4\n",
        "**Define the meaning of a “hyperparameter”** <br>\n",
        " \n",
        "They are tunable variables that determine the learning process unlike other parameters which are discovered in the progress of training the train set. \n",
        "\n",
        "<br>\n",
        "\n",
        "**Explain in a short paragraph why it is important not to evaluate the accuracy on the test set until all hyperparameters have been tuned.** <br> \n",
        "Evaluating the accruacy on the test set is in a sense a cheating. Test set is used to \"test\" the accuracy of the model. However, changing the hyperparameters after running it on test set, you are fitting it to the test set. This then no longer is a valid \"test\" to check the trained model afterwards. The test accuracy has high potential of being higher than how it's supposed to be. \n"
      ]
    },
    {
      "cell_type": "markdown",
      "metadata": {
        "id": "eksmqpsJ5eFu"
      },
      "source": [
        "##2.5\n",
        "**Select 4 hyperparameters associated with your network, one of the hyperparameter must involve your CNN architecture, and come up with two different sets of hyperparameters.** <br>\n",
        "\n",
        "Example: \\\\\n",
        "H = {Batch, Learning Rate, # of outputs of conv layer 1, # of conv layers} \n",
        "\n",
        "Mine: \\\\\n",
        "H = {Epoch, Batch, Learning Rate, # of outputs of conv layer 1} <br>\n",
        "\n",
        "H_default = {epochs = 20, batch = 32, learning_rate = 9e-4, # of outputs on conv_layer1 = 16} <br>\n",
        "H1 = {epochs = 15, batch = 64, learning_rate = 0.005, # of outputs on conv_layer1 = 8} <br>\n",
        "H2 = {epochs = 25, batch = 128, learning_rate = 0.01, # of outputs on conv_layer1 = 32}\n"
      ]
    },
    {
      "cell_type": "markdown",
      "metadata": {
        "id": "W9WaauX7cRmn"
      },
      "source": [
        "##2.6"
      ]
    },
    {
      "cell_type": "markdown",
      "metadata": {
        "id": "sNAOhwYRaVDY"
      },
      "source": [
        "### First set of Hyperparameters\n",
        "H1 = {epochs = 15, batch = 64, learning_rate = 0.005, # of outputs on conv_layer1 = 8}"
      ]
    },
    {
      "cell_type": "code",
      "metadata": {
        "id": "uDilh3ZflQd2"
      },
      "source": [
        "class ConvNet2(objax.Module):\n",
        "  def __init__(self, number_of_channels = 3, number_of_classes = 10):\n",
        "    self.conv_1 = objax.nn.Sequential([objax.nn.Conv2D(number_of_channels, 8, 2), objax.functional.relu]) # Number of output layers: 16 -> 8\n",
        "    self.conv_2 = objax.nn.Sequential([objax.nn.Conv2D(8, 32, 2), objax.functional.relu]) # Number of output layers: 16 -> 8\n",
        "    self.linear = objax.nn.Linear(32, number_of_classes)\n",
        "\n",
        "  def __call__(self, x):\n",
        "    x = objax.functional.max_pool_2d(self.conv_1(x), 2, 2)\n",
        "    x = self.conv_2(x)\n",
        "  \n",
        "    x = x.mean((2,3)) #<--- global average pooling \n",
        "    x = self.linear(x)\n",
        "    return x\n",
        "\n",
        "#The following line creates the CNN\n",
        "model = ConvNet2()\n",
        "#You can examine the architecture of our CNN by calling model.vars()"
      ],
      "execution_count": null,
      "outputs": []
    },
    {
      "cell_type": "code",
      "metadata": {
        "id": "sfy0yzmpwdDv"
      },
      "source": [
        "#Define loss function as averaged value of of cross entropies\n",
        "def loss_function(x, labels):\n",
        "    logit = model(x)\n",
        "    return objax.functional.loss.cross_entropy_logits_sparse(logit, labels).mean()\n",
        "\n",
        "#Define a prediction function\n",
        "predict = objax.Jit(lambda x: objax.functional.softmax(model(x)), model.vars()) \n",
        "\n",
        "#Create an object that can be used to calculate the gradient and value of loss_function\n",
        "gv= objax.GradValues(loss_function, model.vars())\n",
        "\n",
        "#Create an object that can be used to provide trainable variables in the model\n",
        "tv = objax.ModuleList(objax.TrainRef(x) for x in model.vars().subset(objax.TrainVar))\n",
        "\n",
        "#Training routine\n",
        "def train_op(x, y, learning_rate):\n",
        "    lr = learning_rate\n",
        "    gradient, loss_value = gv(x, y)   # calculate gradient and loss value \"backprop\"\n",
        "    #next we update the trainable parameter using SGD and similar procedure\n",
        "    for grad, params in zip(gradient, tv.vars()):\n",
        "         params.value = params.value - lr*grad          \n",
        "    return loss_value                      # return loss value\n",
        "\n",
        "#make train_op (much) faster using JIT compilation\n",
        "train_op = objax.Jit(train_op, gv.vars() + tv.vars())"
      ],
      "execution_count": null,
      "outputs": []
    },
    {
      "cell_type": "code",
      "metadata": {
        "id": "yypumphrSYuY"
      },
      "source": [
        "def train(EPOCHS = 20, BATCH = 32, LEARNING_RATE = 9e-4):\n",
        "  avg_train_loss_epoch = []\n",
        "  avg_val_loss_epoch = []\n",
        "  train_acc_epoch = []\n",
        "  val_acc_epoch = []\n",
        "\n",
        "  for epoch in range(EPOCHS):\n",
        "      avg_train_loss = 0 # (averaged) training loss per batch\n",
        "      avg_val_loss =  0  # (averaged) validation loss per batch\n",
        "      train_acc = 0      # training accuracy per batch\n",
        "      val_acc = 0        # validation accuracy per batch\n",
        "\n",
        "      # shuffle the examples prior to training to remove correlation \n",
        "      train_indices = np.arange(len(X_train)) \n",
        "      np.random.shuffle(train_indices)\n",
        "      for it in range(0, X_train.shape[0], BATCH): \n",
        "          batch = train_indices[it:it+BATCH] #PUT YOUR CODE HERE#\n",
        "          avg_train_loss += float(train_op(X_train[batch], Y_train[batch], LEARNING_RATE)[0]) * len(batch)\n",
        "          train_prediction = predict(X_train[batch]).argmax(1)\n",
        "          train_acc += (np.array(train_prediction).flatten() == Y_train[batch]).sum()\n",
        "      train_acc_epoch.append(train_acc/X_train.shape[0])\n",
        "      avg_train_loss_epoch.append(avg_train_loss/X_train.shape[0])\n",
        "      \n",
        "\n",
        "      # run validation\n",
        "      val_indices = np.arange(len(X_valid)) \n",
        "      np.random.shuffle(val_indices)    \n",
        "      for it in range(0, X_valid.shape[0], BATCH):\n",
        "          batch = val_indices[it:it+BATCH] #PUT YOUR CODE HERE#\n",
        "          avg_val_loss += float(loss_function(X_valid[batch], Y_valid[batch])) * len(batch)\n",
        "          val_prediction = predict(X_valid[batch]).argmax(1)\n",
        "          val_acc += (np.array(val_prediction).flatten() == Y_valid[batch]).sum()\n",
        "      val_acc_epoch.append(val_acc/X_valid.shape[0])\n",
        "      avg_val_loss_epoch.append(avg_val_loss/X_valid.shape[0])\n",
        "\n",
        "      print('Epoch %04d  Training Loss %.2f Validation Loss %.2f Training Accuracy %.2f Validation Accuracy %.2f' % (epoch + 1, avg_train_loss/X_train.shape[0], avg_val_loss/X_valid.shape[0], 100*train_acc/X_train.shape[0], 100*val_acc/X_valid.shape[0]))\n",
        "  \n",
        "  #Plot training loss\n",
        "  plt.title(\"Train vs Validation Loss\")\n",
        "  plt.plot(avg_train_loss_epoch, label=\"Train\")\n",
        "  plt.plot(avg_val_loss_epoch, label=\"Validation\")\n",
        "  plt.xlabel(\"Epoch\")\n",
        "  plt.ylabel(\"Loss\")\n",
        "  plt.legend(loc='best')\n",
        "  plt.show()\n",
        "\n",
        "  plt.title(\"Train vs Validation Accuracy\")\n",
        "  plt.plot(train_acc_epoch, label=\"Train\")\n",
        "  plt.plot(val_acc_epoch, label=\"Validation\")\n",
        "  plt.xlabel(\"Epoch\")\n",
        "  plt.ylabel(\"Accuracy (%)\")\n",
        "  plt.legend(loc='best')\n",
        "  plt.show()"
      ],
      "execution_count": null,
      "outputs": []
    },
    {
      "cell_type": "code",
      "metadata": {
        "colab": {
          "base_uri": "https://localhost:8080/",
          "height": 833
        },
        "id": "bVc4JpkRlwyS",
        "outputId": "b91d598a-cbb1-4121-cd98-a603acd62e40"
      },
      "source": [
        "train(EPOCHS = 15, BATCH = 64, LEARNING_RATE = 0.005)"
      ],
      "execution_count": null,
      "outputs": [
        {
          "output_type": "stream",
          "name": "stdout",
          "text": [
            "Epoch 0001  Training Loss 2.30 Validation Loss 2.30 Training Accuracy 10.41 Validation Accuracy 12.98\n",
            "Epoch 0002  Training Loss 2.30 Validation Loss 2.29 Training Accuracy 14.39 Validation Accuracy 14.57\n",
            "Epoch 0003  Training Loss 2.29 Validation Loss 2.29 Training Accuracy 14.80 Validation Accuracy 15.72\n",
            "Epoch 0004  Training Loss 2.28 Validation Loss 2.28 Training Accuracy 16.05 Validation Accuracy 15.57\n",
            "Epoch 0005  Training Loss 2.27 Validation Loss 2.27 Training Accuracy 15.97 Validation Accuracy 15.85\n",
            "Epoch 0006  Training Loss 2.26 Validation Loss 2.25 Training Accuracy 16.68 Validation Accuracy 17.07\n",
            "Epoch 0007  Training Loss 2.24 Validation Loss 2.22 Training Accuracy 17.42 Validation Accuracy 16.93\n",
            "Epoch 0008  Training Loss 2.21 Validation Loss 2.19 Training Accuracy 18.17 Validation Accuracy 17.12\n",
            "Epoch 0009  Training Loss 2.18 Validation Loss 2.16 Training Accuracy 18.41 Validation Accuracy 18.17\n",
            "Epoch 0010  Training Loss 2.15 Validation Loss 2.14 Training Accuracy 19.48 Validation Accuracy 20.47\n",
            "Epoch 0011  Training Loss 2.13 Validation Loss 2.12 Training Accuracy 21.23 Validation Accuracy 20.28\n",
            "Epoch 0012  Training Loss 2.12 Validation Loss 2.11 Training Accuracy 21.11 Validation Accuracy 21.43\n",
            "Epoch 0013  Training Loss 2.11 Validation Loss 2.11 Training Accuracy 21.40 Validation Accuracy 21.98\n",
            "Epoch 0014  Training Loss 2.11 Validation Loss 2.10 Training Accuracy 21.78 Validation Accuracy 21.27\n",
            "Epoch 0015  Training Loss 2.10 Validation Loss 2.10 Training Accuracy 21.71 Validation Accuracy 22.50\n"
          ]
        },
        {
          "output_type": "display_data",
          "data": {
            "image/png": "[encoded data removed]",
            "text/plain": [
              "<Figure size 432x288 with 1 Axes>"
            ]
          },
          "metadata": {
            "needs_background": "light"
          }
        },
        {
          "output_type": "display_data",
          "data": {
            "image/png": "[encoded data removed]",
            "text/plain": [
              "<Figure size 432x288 with 1 Axes>"
            ]
          },
          "metadata": {
            "needs_background": "light"
          }
        }
      ]
    },
    {
      "cell_type": "markdown",
      "metadata": {
        "id": "gO6RddaPZ2tc"
      },
      "source": [
        "### Second Hyper parameter\n",
        "H2 = {epochs = 25, batch = 128, learning_rate = 0.01, # of outputs on conv_layer1 = 32}"
      ]
    },
    {
      "cell_type": "code",
      "metadata": {
        "id": "Q4yWLobRlKtY"
      },
      "source": [
        "class ConvNet3(objax.Module):\n",
        "  def __init__(self, number_of_channels = 3, number_of_classes = 10):\n",
        "    self.conv_1 = objax.nn.Sequential([objax.nn.Conv2D(number_of_channels, 32, 2), objax.functional.relu]) # Number of output layers: 16 -> 32\n",
        "    self.conv_2 = objax.nn.Sequential([objax.nn.Conv2D(32, 32, 2), objax.functional.relu]) # Number of output layers: 16 -> 32\n",
        "    self.linear = objax.nn.Linear(32, number_of_classes) \n",
        "\n",
        "  def __call__(self, x):\n",
        "    x = objax.functional.max_pool_2d(self.conv_1(x), 2, 2)\n",
        "    x = self.conv_2(x)\n",
        "  \n",
        "    x = x.mean((2,3)) #<--- global average pooling \n",
        "    x = self.linear(x)\n",
        "    return x\n",
        "\n",
        "#The following line creates the CNN\n",
        "model = ConvNet3()\n",
        "#You can examine the architecture of our CNN by calling model.vars()"
      ],
      "execution_count": null,
      "outputs": []
    },
    {
      "cell_type": "code",
      "metadata": {
        "id": "eqSQNvTuvun8"
      },
      "source": [
        "#Define loss function as averaged value of of cross entropies\n",
        "def loss_function(x, labels):\n",
        "    logit = model(x)\n",
        "    return objax.functional.loss.cross_entropy_logits_sparse(logit, labels).mean()\n",
        "\n",
        "#Define a prediction function\n",
        "predict = objax.Jit(lambda x: objax.functional.softmax(model(x)), model.vars()) \n",
        "\n",
        "#Create an object that can be used to calculate the gradient and value of loss_function\n",
        "gv= objax.GradValues(loss_function, model.vars())\n",
        "\n",
        "#Create an object that can be used to provide trainable variables in the model\n",
        "tv = objax.ModuleList(objax.TrainRef(x) for x in model.vars().subset(objax.TrainVar))\n",
        "\n",
        "#Training routine\n",
        "def train_op(x, y, learning_rate):\n",
        "    lr = learning_rate\n",
        "    gradient, loss_value = gv(x, y)   # calculate gradient and loss value \"backprop\"\n",
        "    #next we update the trainable parameter using SGD and similar procedure\n",
        "    for grad, params in zip(gradient, tv.vars()):\n",
        "         params.value = params.value - lr*grad          \n",
        "    return loss_value                      # return loss value\n",
        "\n",
        "#make train_op (much) faster using JIT compilation\n",
        "train_op = objax.Jit(train_op, gv.vars() + tv.vars())"
      ],
      "execution_count": null,
      "outputs": []
    },
    {
      "cell_type": "code",
      "metadata": {
        "id": "S8LXS4oHZA9M",
        "colab": {
          "base_uri": "https://localhost:8080/",
          "height": 1000
        },
        "outputId": "952ad826-c8db-4f49-eaae-2719eb1a1bc0"
      },
      "source": [
        "train(EPOCHS = 25, BATCH = 128, LEARNING_RATE = 0.01)"
      ],
      "execution_count": null,
      "outputs": [
        {
          "output_type": "stream",
          "name": "stdout",
          "text": [
            "Epoch 0001  Training Loss 2.29 Validation Loss 2.28 Training Accuracy 12.08 Validation Accuracy 13.35\n",
            "Epoch 0002  Training Loss 2.27 Validation Loss 2.26 Training Accuracy 15.31 Validation Accuracy 17.20\n",
            "Epoch 0003  Training Loss 2.25 Validation Loss 2.23 Training Accuracy 17.96 Validation Accuracy 17.22\n",
            "Epoch 0004  Training Loss 2.22 Validation Loss 2.20 Training Accuracy 18.70 Validation Accuracy 17.47\n",
            "Epoch 0005  Training Loss 2.18 Validation Loss 2.16 Training Accuracy 19.60 Validation Accuracy 21.17\n",
            "Epoch 0006  Training Loss 2.15 Validation Loss 2.13 Training Accuracy 20.72 Validation Accuracy 20.35\n",
            "Epoch 0007  Training Loss 2.12 Validation Loss 2.11 Training Accuracy 22.03 Validation Accuracy 21.80\n",
            "Epoch 0008  Training Loss 2.11 Validation Loss 2.10 Training Accuracy 23.15 Validation Accuracy 23.80\n",
            "Epoch 0009  Training Loss 2.10 Validation Loss 2.09 Training Accuracy 23.84 Validation Accuracy 22.52\n",
            "Epoch 0010  Training Loss 2.09 Validation Loss 2.08 Training Accuracy 23.75 Validation Accuracy 24.25\n",
            "Epoch 0011  Training Loss 2.08 Validation Loss 2.08 Training Accuracy 24.12 Validation Accuracy 24.05\n",
            "Epoch 0012  Training Loss 2.08 Validation Loss 2.07 Training Accuracy 24.55 Validation Accuracy 23.97\n",
            "Epoch 0013  Training Loss 2.07 Validation Loss 2.07 Training Accuracy 24.85 Validation Accuracy 23.98\n",
            "Epoch 0014  Training Loss 2.07 Validation Loss 2.06 Training Accuracy 25.18 Validation Accuracy 24.08\n",
            "Epoch 0015  Training Loss 2.06 Validation Loss 2.05 Training Accuracy 25.46 Validation Accuracy 25.33\n",
            "Epoch 0016  Training Loss 2.05 Validation Loss 2.05 Training Accuracy 26.04 Validation Accuracy 25.32\n",
            "Epoch 0017  Training Loss 2.04 Validation Loss 2.04 Training Accuracy 26.42 Validation Accuracy 25.77\n",
            "Epoch 0018  Training Loss 2.03 Validation Loss 2.03 Training Accuracy 26.78 Validation Accuracy 25.62\n",
            "Epoch 0019  Training Loss 2.03 Validation Loss 2.02 Training Accuracy 27.01 Validation Accuracy 26.60\n",
            "Epoch 0020  Training Loss 2.02 Validation Loss 2.01 Training Accuracy 27.44 Validation Accuracy 27.32\n",
            "Epoch 0021  Training Loss 2.01 Validation Loss 2.00 Training Accuracy 27.96 Validation Accuracy 27.82\n",
            "Epoch 0022  Training Loss 2.00 Validation Loss 1.99 Training Accuracy 28.20 Validation Accuracy 27.55\n",
            "Epoch 0023  Training Loss 1.99 Validation Loss 1.98 Training Accuracy 28.63 Validation Accuracy 28.48\n",
            "Epoch 0024  Training Loss 1.98 Validation Loss 1.97 Training Accuracy 28.89 Validation Accuracy 27.05\n",
            "Epoch 0025  Training Loss 1.97 Validation Loss 1.96 Training Accuracy 28.86 Validation Accuracy 28.23\n"
          ]
        },
        {
          "output_type": "display_data",
          "data": {
            "image/png": "[encoded data removed]",
            "text/plain": [
              "<Figure size 432x288 with 1 Axes>"
            ]
          },
          "metadata": {
            "needs_background": "light"
          }
        },
        {
          "output_type": "display_data",
          "data": {
            "image/png": "[encoded data removed]",
            "text/plain": [
              "<Figure size 432x288 with 1 Axes>"
            ]
          },
          "metadata": {
            "needs_background": "light"
          }
        }
      ]
    },
    {
      "cell_type": "markdown",
      "metadata": {
        "id": "UBOc-nqGwPuu"
      },
      "source": [
        "**Report the best validation accuracy as well as the corresponding epoch for which this occurs for the Base Model and your two additional models.**<br>\n",
        "\n",
        "\n",
        "* Base Model: 18.27% at epoch 20\n",
        "* M1: 22.50% at epoch 15\n",
        "* M2: 28.23% at epoch 25\n",
        "\n",
        "\n",
        "\n",
        "<br><br>\n",
        "**Which model performs the best in terms of validation accuracy?** <br>\n",
        "From above, <br>\n",
        "=> Base Model (18.27%) < M1 (22.50%) < M2 (28.23%) for given hyperparameters<br>\n",
        "\n",
        "Based on this, it can be concluded that M2 model with the Hyperparamters of H2 = {epochs = 25, batch = 128, learning_rate = 0.01, # of outputs on conv_layer1 = 32} has the highest validation accuracy with 28.23% and therefore is the model that performs the best.\n",
        "\n",
        "\n",
        "\n",
        "Therefore, M2 is the model that performs the best in terms of validation accuracy. \n",
        "\n"
      ]
    },
    {
      "cell_type": "markdown",
      "metadata": {
        "id": "IRHkhemBymIv"
      },
      "source": [
        "##2.7\n",
        "\n",
        "**Based on your answer, which model should you pick as your final model and why? Then evaluate your model on the test set and report final test accuracy.**\n",
        "\n",
        "Since M2 had the highest validation accuracy, it implies it has the least loss and it is the best-trained model. Therefore, I will pick M2 and run test set and report the final test accuracy. <br>\n",
        "\n",
        "As shown below, M2 model gives the test set accuracy of 27.92%. Reflecting upon its validation accuracy of 28.23%, this is a reasonable value. I can assure no overfitting or underfitting is happening. "
      ]
    },
    {
      "cell_type": "code",
      "metadata": {
        "colab": {
          "base_uri": "https://localhost:8080/"
        },
        "id": "5E6Pb61KzqSi",
        "outputId": "fe0f7705-c933-40ed-99dc-7362e15c4a15"
      },
      "source": [
        "def test(EPOCHS = 20, BATCH = 1, LEARNING_RATE = 9e-4):\n",
        "  test_loss = 0 # (averaged) loss per batch\n",
        "  test_acc = 0      # training accuracy per batch\n",
        "\n",
        "  # shuffle the data prior to training to remove correlation \n",
        "  test_indices = np.arange(len(X_test)) \n",
        "  np.random.shuffle(test_indices)\n",
        "\n",
        "  for it in range(0, X_test.shape[0], BATCH): \n",
        "    batch = test_indices[it:it+BATCH] \n",
        "    test_prediction = predict(X_test[batch]).argmax(1)\n",
        "    test_acc += (np.array(test_prediction).flatten() == Y_test[batch]).sum()\n",
        "      \n",
        "  print('Test Accuracy %.2f' % (100*test_acc/X_test.shape[0]))\n",
        "\n",
        "test()"
      ],
      "execution_count": null,
      "outputs": [
        {
          "output_type": "stream",
          "name": "stdout",
          "text": [
            "Test Accuracy 27.92\n"
          ]
        }
      ]
    },
    {
      "cell_type": "markdown",
      "metadata": {
        "id": "_XOXmJiGZF78"
      },
      "source": [
        "You have now completed Part 2 of the assignment. Good job!\n"
      ]
    },
    {
      "cell_type": "markdown",
      "metadata": {
        "id": "cno9fjO1o2Jq"
      },
      "source": [
        "##**Part 3. Trying Out a New Dataset**\n",
        "\n",
        "See the handout for instructions.\n"
      ]
    },
    {
      "cell_type": "code",
      "metadata": {
        "colab": {
          "base_uri": "https://localhost:8080/",
          "height": 35
        },
        "id": "PSHerdUW61Pr",
        "outputId": "0cb79916-fedb-4eb4-ab34-eb6937c53990"
      },
      "source": [
        "import tensorflow as tf \n",
        "tf.test.gpu_device_name()"
      ],
      "execution_count": null,
      "outputs": [
        {
          "output_type": "execute_result",
          "data": {
            "application/vnd.google.colaboratory.intrinsic+json": {
              "type": "string"
            },
            "text/plain": [
              "'/device:GPU:0'"
            ]
          },
          "metadata": {},
          "execution_count": 22
        }
      ]
    },
    {
      "cell_type": "markdown",
      "metadata": {
        "id": "IShd4Hlhsc3j"
      },
      "source": [
        "#### STEP1. Presetting (Loading Data, split)"
      ]
    },
    {
      "cell_type": "code",
      "metadata": {
        "id": "SwSUIgnXIiDj"
      },
      "source": [
        "#.load_data() by default returns a split between training and test set. \n",
        "# We then adjust the training set into a format that can be accepted by our CNN\n",
        "(X_train, Y_train), (X_test, Y_test) = tf.keras.datasets.mnist.load_data()\n",
        "\n",
        "X_train = X_train.reshape(X_train.shape[0], 28, 28, 1)\n",
        "X_test = X_test.reshape(X_test.shape[0], 28, 28, 1)\n",
        "\n",
        "X_train = X_train.transpose(0, 3, 1, 2) /255.0\n",
        "Y_train = Y_train.flatten()\n",
        "X_test = X_test.transpose(0, 3, 1, 2) / 255.0\n",
        "Y_test = Y_test.flatten()\n",
        "\n",
        "np.random.seed(1)\n",
        "# To create a validation set, we first concate the original splitted dataset into a single dataset \n",
        "# then randomly shuffle the images and labels in the same way (seed = 1)\n",
        "X_data = np.concatenate([X_train, X_test], axis = 0)\n",
        "Y_data = np.concatenate([Y_train, Y_test], axis = 0)\n",
        "\n",
        "N = np.arange(len(X_data))\n",
        "np.random.shuffle(N)\n",
        "X_data = X_data[N]\n",
        "Y_data = Y_data[N]\n",
        "\n",
        "#Next, we partition the randomly shuffled dataset into training, validation and testset according a ratio\n",
        "train_ratio = 0.80\n",
        "valid_ratio = 0.1\n",
        "n_train = int(len(X_data) * train_ratio)\n",
        "n_valid = int(len(X_data) * valid_ratio)\n",
        "\n",
        "X_train, X_valid, X_test = X_data[:n_train], X_data[n_train:n_train+n_valid], X_data[n_train+n_valid:]\n",
        "Y_train, Y_valid, Y_test = Y_data[:n_train], Y_data[n_train:n_train+n_valid], Y_data[n_train+n_valid:]"
      ],
      "execution_count": null,
      "outputs": []
    },
    {
      "cell_type": "markdown",
      "metadata": {
        "id": "C6PTHGd1eG7u"
      },
      "source": [
        "## HYPERPARAMETERS TO BE CONSIDERED: \n",
        "\n",
        "**Which hyperparameters you tuned?** <br>\n",
        "H = {Epochs, Batch, Learning_Rate, Activation_Function}\n",
        "\n",
        "\n",
        "---\n",
        "\n"
      ]
    },
    {
      "cell_type": "markdown",
      "metadata": {
        "id": "nPuanTPvstPM"
      },
      "source": [
        "### BASE MODEL:\n",
        "H_default = {Epochs = 20, Batch = 32, Learning_rate = 9e-4, Activation_Function = ReLU}"
      ]
    },
    {
      "cell_type": "markdown",
      "metadata": {
        "id": "SYIId9jUtFPc"
      },
      "source": [
        "### Step 2. Build architecture"
      ]
    },
    {
      "cell_type": "code",
      "metadata": {
        "id": "IqlgyoqyIwST"
      },
      "source": [
        "class ConvNet(objax.Module):\n",
        "  def __init__(self, number_of_channels = 1, number_of_classes = 10): # number_of_channels = 1 since mnist is black/white, # of classes = modified to fit mnist\n",
        "    self.conv_1 = objax.nn.Sequential([objax.nn.Conv2D(number_of_channels, 16, 2), objax.functional.relu])\n",
        "    self.conv_2 = objax.nn.Sequential([objax.nn.Conv2D(16, 32, 2), objax.functional.relu]) \n",
        "    self.linear = objax.nn.Linear(32, number_of_classes)\n",
        "\n",
        "  def __call__(self, x):\n",
        "    x = objax.functional.max_pool_2d(self.conv_1(x), 2, 2)\n",
        "    x = self.conv_2(x)\n",
        "  \n",
        "    x = x.mean((2,3)) #<--- global average pooling \n",
        "    x = self.linear(x)\n",
        "    return x\n",
        "\n",
        "#The following line creates the CNN\n",
        "model = ConvNet()\n",
        "#You can examine the architecture of our CNN by calling model.vars()"
      ],
      "execution_count": null,
      "outputs": []
    },
    {
      "cell_type": "code",
      "metadata": {
        "id": "pS3l8jcpI0Y6"
      },
      "source": [
        "#Define loss function as averaged value of of cross entropies\n",
        "def loss_function(x, labels):\n",
        "    logit = model(x)\n",
        "    return objax.functional.loss.cross_entropy_logits_sparse(logit, labels).mean()\n",
        "\n",
        "#Define a prediction function\n",
        "predict = objax.Jit(lambda x: objax.functional.softmax(model(x)), model.vars()) \n",
        "\n",
        "#Create an object that can be used to calculate the gradient and value of loss_function\n",
        "gv= objax.GradValues(loss_function, model.vars())\n",
        "\n",
        "#Create an object that can be used to provide trainable variables in the model\n",
        "tv = objax.ModuleList(objax.TrainRef(x) for x in model.vars().subset(objax.TrainVar))\n",
        "\n",
        "#Training routine\n",
        "def train_op(x, y, learning_rate):\n",
        "    lr = learning_rate\n",
        "    gradient, loss_value = gv(x, y)   # calculate gradient and loss value \"backprop\"\n",
        "    #next we update the trainable parameter using SGD and similar procedure\n",
        "    for grad, params in zip(gradient, tv.vars()):\n",
        "         params.value = params.value - lr*grad          \n",
        "    return loss_value                      # return loss value\n",
        "\n",
        "#make train_op (much) faster using JIT compilation\n",
        "train_op = objax.Jit(train_op, gv.vars() + tv.vars())"
      ],
      "execution_count": null,
      "outputs": []
    },
    {
      "cell_type": "markdown",
      "metadata": {
        "id": "K3-IKerNtMvt"
      },
      "source": [
        "### Step 2. Train"
      ]
    },
    {
      "cell_type": "code",
      "metadata": {
        "id": "MmTez8kmI6Hs"
      },
      "source": [
        "def train(EPOCHS = 20, BATCH = 32, LEARNING_RATE = 9e-4):\n",
        "  avg_train_loss_epoch = []\n",
        "  avg_val_loss_epoch = []\n",
        "  train_acc_epoch = []\n",
        "  val_acc_epoch = []\n",
        "\n",
        "  for epoch in range(EPOCHS):\n",
        "      avg_train_loss = 0 # (averaged) training loss per batch\n",
        "      avg_val_loss =  0  # (averaged) validation loss per batch\n",
        "      train_acc = 0      # training accuracy per batch\n",
        "      val_acc = 0        # validation accuracy per batch\n",
        "\n",
        "      # shuffle the examples prior to training to remove correlation \n",
        "      train_indices = np.arange(len(X_train)) \n",
        "      np.random.shuffle(train_indices)\n",
        "      for it in range(0, X_train.shape[0], BATCH): \n",
        "          batch = train_indices[it:it+BATCH] #PUT YOUR CODE HERE#\n",
        "          avg_train_loss += float(train_op(X_train[batch], Y_train[batch], LEARNING_RATE)[0]) * len(batch)\n",
        "          train_prediction = predict(X_train[batch]).argmax(1)\n",
        "          train_acc += (np.array(train_prediction).flatten() == Y_train[batch]).sum()\n",
        "      train_acc_epoch.append(train_acc/X_train.shape[0])\n",
        "      avg_train_loss_epoch.append(avg_train_loss/X_train.shape[0])\n",
        "      \n",
        "\n",
        "      # run validation\n",
        "      val_indices = np.arange(len(X_valid)) \n",
        "      np.random.shuffle(val_indices)    \n",
        "      for it in range(0, X_valid.shape[0], BATCH):\n",
        "          batch = val_indices[it:it+BATCH] #PUT YOUR CODE HERE#\n",
        "          avg_val_loss += float(loss_function(X_valid[batch], Y_valid[batch])) * len(batch)\n",
        "          val_prediction = predict(X_valid[batch]).argmax(1)\n",
        "          val_acc += (np.array(val_prediction).flatten() == Y_valid[batch]).sum()\n",
        "      val_acc_epoch.append(val_acc/X_valid.shape[0])\n",
        "      avg_val_loss_epoch.append(avg_val_loss/X_valid.shape[0])\n",
        "\n",
        "      print('Epoch %04d  Training Loss %.2f Validation Loss %.2f Training Accuracy %.2f Validation Accuracy %.2f' % (epoch + 1, avg_train_loss/X_train.shape[0], avg_val_loss/X_valid.shape[0], 100*train_acc/X_train.shape[0], 100*val_acc/X_valid.shape[0]))\n",
        "  \n",
        "  #Plot training loss\n",
        "  plt.title(\"Train vs Validation Loss\")\n",
        "  plt.plot(avg_train_loss_epoch, label=\"Train\")\n",
        "  plt.plot(avg_val_loss_epoch, label=\"Validation\")\n",
        "  plt.xlabel(\"Epoch\")\n",
        "  plt.ylabel(\"Loss\")\n",
        "  plt.legend(loc='best')\n",
        "  plt.show()\n",
        "\n",
        "  plt.title(\"Train vs Validation Accuracy\")\n",
        "  plt.plot(train_acc_epoch, label=\"Train\")\n",
        "  plt.plot(val_acc_epoch, label=\"Validation\")\n",
        "  plt.xlabel(\"Epoch\")\n",
        "  plt.ylabel(\"Accuracy (%)\")\n",
        "  plt.legend(loc='best')\n",
        "  plt.show()"
      ],
      "execution_count": null,
      "outputs": []
    },
    {
      "cell_type": "code",
      "metadata": {
        "colab": {
          "base_uri": "https://localhost:8080/",
          "height": 920
        },
        "id": "SZs7ch9_chzs",
        "outputId": "78236d83-16e9-464c-c8a2-4931f887d229"
      },
      "source": [
        "train()"
      ],
      "execution_count": null,
      "outputs": [
        {
          "output_type": "stream",
          "name": "stdout",
          "text": [
            "Epoch 0001  Training Loss 2.30 Validation Loss 2.30 Training Accuracy 9.63 Validation Accuracy 9.67\n",
            "Epoch 0002  Training Loss 2.29 Validation Loss 2.29 Training Accuracy 10.01 Validation Accuracy 10.97\n",
            "Epoch 0003  Training Loss 2.29 Validation Loss 2.28 Training Accuracy 12.04 Validation Accuracy 13.56\n",
            "Epoch 0004  Training Loss 2.28 Validation Loss 2.28 Training Accuracy 14.33 Validation Accuracy 15.40\n",
            "Epoch 0005  Training Loss 2.28 Validation Loss 2.27 Training Accuracy 16.45 Validation Accuracy 17.21\n",
            "Epoch 0006  Training Loss 2.27 Validation Loss 2.27 Training Accuracy 17.83 Validation Accuracy 18.57\n",
            "Epoch 0007  Training Loss 2.27 Validation Loss 2.26 Training Accuracy 19.21 Validation Accuracy 19.64\n",
            "Epoch 0008  Training Loss 2.26 Validation Loss 2.26 Training Accuracy 20.19 Validation Accuracy 20.26\n",
            "Epoch 0009  Training Loss 2.25 Validation Loss 2.25 Training Accuracy 20.74 Validation Accuracy 20.16\n",
            "Epoch 0010  Training Loss 2.25 Validation Loss 2.24 Training Accuracy 20.93 Validation Accuracy 20.46\n",
            "Epoch 0011  Training Loss 2.24 Validation Loss 2.24 Training Accuracy 21.19 Validation Accuracy 20.56\n",
            "Epoch 0012  Training Loss 2.23 Validation Loss 2.23 Training Accuracy 21.65 Validation Accuracy 20.84\n",
            "Epoch 0013  Training Loss 2.22 Validation Loss 2.22 Training Accuracy 21.59 Validation Accuracy 20.96\n",
            "Epoch 0014  Training Loss 2.22 Validation Loss 2.21 Training Accuracy 21.74 Validation Accuracy 21.07\n",
            "Epoch 0015  Training Loss 2.21 Validation Loss 2.20 Training Accuracy 21.80 Validation Accuracy 20.94\n",
            "Epoch 0016  Training Loss 2.20 Validation Loss 2.19 Training Accuracy 21.80 Validation Accuracy 20.93\n",
            "Epoch 0017  Training Loss 2.18 Validation Loss 2.18 Training Accuracy 21.96 Validation Accuracy 20.93\n",
            "Epoch 0018  Training Loss 2.17 Validation Loss 2.17 Training Accuracy 21.90 Validation Accuracy 21.11\n",
            "Epoch 0019  Training Loss 2.16 Validation Loss 2.16 Training Accuracy 22.16 Validation Accuracy 21.26\n",
            "Epoch 0020  Training Loss 2.15 Validation Loss 2.14 Training Accuracy 22.40 Validation Accuracy 21.41\n"
          ]
        },
        {
          "output_type": "display_data",
          "data": {
            "image/png": "[encoded data removed]",
            "text/plain": [
              "<Figure size 432x288 with 1 Axes>"
            ]
          },
          "metadata": {
            "needs_background": "light"
          }
        },
        {
          "output_type": "display_data",
          "data": {
            "image/png": "[encoded data removed]",
            "text/plain": [
              "<Figure size 432x288 with 1 Axes>"
            ]
          },
          "metadata": {
            "needs_background": "light"
          }
        }
      ]
    },
    {
      "cell_type": "markdown",
      "metadata": {
        "id": "ylotaJCYHDI1"
      },
      "source": [
        "### TUNED HYPERPARAMETER MODEL: \n",
        "\n",
        "H_modified = { Epochs = 30, Batch = 56, Learning_Rate = 0.01, tanh}"
      ]
    },
    {
      "cell_type": "code",
      "metadata": {
        "id": "7RfcW4p2ctUg"
      },
      "source": [
        "class ConvNet_modified(objax.Module):\n",
        "  def __init__(self, number_of_channels = 1, number_of_classes = 10):\n",
        "    self.conv_1 = objax.nn.Sequential([objax.nn.Conv2D(number_of_channels, 16, 2), objax.functional.tanh])\n",
        "    self.conv_2 = objax.nn.Sequential([objax.nn.Conv2D(16, 32, 2), objax.functional.tanh]) \n",
        "    self.linear = objax.nn.Linear(32, number_of_classes)\n",
        "\n",
        "  def __call__(self, x):\n",
        "    x = objax.functional.max_pool_2d(self.conv_1(x), 2, 2)\n",
        "    x = self.conv_2(x)\n",
        "  \n",
        "    x = x.mean((2,3)) #<--- global average pooling \n",
        "    x = self.linear(x)\n",
        "    return x\n",
        "\n",
        "#The following line creates the CNN\n",
        "model = ConvNet_modified()\n",
        "#You can examine the architecture of our CNN by calling model.vars()"
      ],
      "execution_count": null,
      "outputs": []
    },
    {
      "cell_type": "code",
      "metadata": {
        "id": "AV9eremKc1OR"
      },
      "source": [
        "#Define loss function as averaged value of of cross entropies\n",
        "def loss_function(x, labels):\n",
        "    logit = model(x)\n",
        "    return objax.functional.loss.cross_entropy_logits_sparse(logit, labels).mean()\n",
        "\n",
        "#Define a prediction function\n",
        "predict = objax.Jit(lambda x: objax.functional.softmax(model(x)), model.vars()) \n",
        "\n",
        "#Create an object that can be used to calculate the gradient and value of loss_function\n",
        "gv= objax.GradValues(loss_function, model.vars())\n",
        "\n",
        "#Create an object that can be used to provide trainable variables in the model\n",
        "tv = objax.ModuleList(objax.TrainRef(x) for x in model.vars().subset(objax.TrainVar))\n",
        "\n",
        "#Training routine\n",
        "def train_op(x, y, learning_rate):\n",
        "    lr = learning_rate\n",
        "    gradient, loss_value = gv(x, y)   # calculate gradient and loss value \"backprop\"\n",
        "    #next we update the trainable parameter using SGD and similar procedure\n",
        "    for grad, params in zip(gradient, tv.vars()):\n",
        "         params.value = params.value - lr*grad          \n",
        "    return loss_value                      # return loss value\n",
        "\n",
        "#make train_op (much) faster using JIT compilation\n",
        "train_op = objax.Jit(train_op, gv.vars() + tv.vars())"
      ],
      "execution_count": null,
      "outputs": []
    },
    {
      "cell_type": "code",
      "metadata": {
        "colab": {
          "base_uri": "https://localhost:8080/",
          "height": 1000
        },
        "id": "2eKdDmVeI-UW",
        "outputId": "4dbd0573-c937-44f9-81be-645d3015fef3"
      },
      "source": [
        "train(EPOCHS = 30, BATCH = 56, LEARNING_RATE = 0.01)"
      ],
      "execution_count": null,
      "outputs": [
        {
          "output_type": "stream",
          "name": "stdout",
          "text": [
            "Epoch 0001  Training Loss 2.26 Validation Loss 2.23 Training Accuracy 18.61 Validation Accuracy 18.93\n",
            "Epoch 0002  Training Loss 2.20 Validation Loss 2.17 Training Accuracy 20.61 Validation Accuracy 20.17\n",
            "Epoch 0003  Training Loss 2.14 Validation Loss 2.12 Training Accuracy 22.15 Validation Accuracy 21.96\n",
            "Epoch 0004  Training Loss 2.09 Validation Loss 2.07 Training Accuracy 23.80 Validation Accuracy 22.44\n",
            "Epoch 0005  Training Loss 2.05 Validation Loss 2.04 Training Accuracy 24.68 Validation Accuracy 23.27\n",
            "Epoch 0006  Training Loss 2.02 Validation Loss 2.02 Training Accuracy 25.43 Validation Accuracy 23.87\n",
            "Epoch 0007  Training Loss 1.99 Validation Loss 2.00 Training Accuracy 26.06 Validation Accuracy 24.76\n",
            "Epoch 0008  Training Loss 1.98 Validation Loss 1.98 Training Accuracy 26.81 Validation Accuracy 25.40\n",
            "Epoch 0009  Training Loss 1.96 Validation Loss 1.97 Training Accuracy 27.16 Validation Accuracy 26.46\n",
            "Epoch 0010  Training Loss 1.95 Validation Loss 1.95 Training Accuracy 27.48 Validation Accuracy 26.10\n",
            "Epoch 0011  Training Loss 1.94 Validation Loss 1.95 Training Accuracy 27.68 Validation Accuracy 26.17\n",
            "Epoch 0012  Training Loss 1.93 Validation Loss 1.94 Training Accuracy 28.07 Validation Accuracy 26.01\n",
            "Epoch 0013  Training Loss 1.92 Validation Loss 1.93 Training Accuracy 27.98 Validation Accuracy 26.93\n",
            "Epoch 0014  Training Loss 1.92 Validation Loss 1.93 Training Accuracy 28.26 Validation Accuracy 27.11\n",
            "Epoch 0015  Training Loss 1.91 Validation Loss 1.92 Training Accuracy 28.27 Validation Accuracy 27.29\n",
            "Epoch 0016  Training Loss 1.91 Validation Loss 1.92 Training Accuracy 28.88 Validation Accuracy 27.46\n",
            "Epoch 0017  Training Loss 1.90 Validation Loss 1.92 Training Accuracy 28.45 Validation Accuracy 28.00\n",
            "Epoch 0018  Training Loss 1.90 Validation Loss 1.91 Training Accuracy 28.69 Validation Accuracy 27.77\n",
            "Epoch 0019  Training Loss 1.90 Validation Loss 1.91 Training Accuracy 28.91 Validation Accuracy 27.34\n",
            "Epoch 0020  Training Loss 1.89 Validation Loss 1.90 Training Accuracy 29.01 Validation Accuracy 27.83\n",
            "Epoch 0021  Training Loss 1.89 Validation Loss 1.90 Training Accuracy 29.33 Validation Accuracy 28.01\n",
            "Epoch 0022  Training Loss 1.89 Validation Loss 1.90 Training Accuracy 29.29 Validation Accuracy 28.04\n",
            "Epoch 0023  Training Loss 1.89 Validation Loss 1.90 Training Accuracy 29.54 Validation Accuracy 27.81\n",
            "Epoch 0024  Training Loss 1.88 Validation Loss 1.90 Training Accuracy 29.84 Validation Accuracy 27.74\n",
            "Epoch 0025  Training Loss 1.88 Validation Loss 1.89 Training Accuracy 29.76 Validation Accuracy 28.60\n",
            "Epoch 0026  Training Loss 1.88 Validation Loss 1.89 Training Accuracy 29.89 Validation Accuracy 28.99\n",
            "Epoch 0027  Training Loss 1.88 Validation Loss 1.89 Training Accuracy 30.31 Validation Accuracy 28.74\n",
            "Epoch 0028  Training Loss 1.87 Validation Loss 1.88 Training Accuracy 30.15 Validation Accuracy 29.77\n",
            "Epoch 0029  Training Loss 1.87 Validation Loss 1.88 Training Accuracy 30.63 Validation Accuracy 29.74\n",
            "Epoch 0030  Training Loss 1.87 Validation Loss 1.88 Training Accuracy 30.80 Validation Accuracy 28.67\n"
          ]
        },
        {
          "output_type": "display_data",
          "data": {
            "image/png": "[encoded data removed]",
            "text/plain": [
              "<Figure size 432x288 with 1 Axes>"
            ]
          },
          "metadata": {
            "needs_background": "light"
          }
        },
        {
          "output_type": "display_data",
          "data": {
            "image/png": "[encoded data removed]",
            "text/plain": [
              "<Figure size 432x288 with 1 Axes>"
            ]
          },
          "metadata": {
            "needs_background": "light"
          }
        }
      ]
    },
    {
      "cell_type": "markdown",
      "metadata": {
        "id": "_-Rn8lnRaCgi"
      },
      "source": [
        "**Select your final model and report test accuracy.**\n",
        "\n",
        "Since the best validation of the modified hyperparameter model (29.77%) is higher than the best validation of the base model (21.41%), I will use the modified hyperparameter model to run the test set. \n",
        "\n",
        "As shown below, the the test accuracy of my best model is 29.74%. "
      ]
    },
    {
      "cell_type": "code",
      "metadata": {
        "colab": {
          "base_uri": "https://localhost:8080/"
        },
        "id": "DQdeI7araBMS",
        "outputId": "4410b95e-7683-4a1e-c168-03592f797cf2"
      },
      "source": [
        "def test(BATCH = 1):\n",
        "  test_loss = 0 # (averaged) loss per batch\n",
        "  test_acc = 0      # training accuracy per batch\n",
        "\n",
        "  # shuffle the data prior to training to remove correlation \n",
        "  test_indices = np.arange(len(X_test)) \n",
        "  np.random.shuffle(test_indices)\n",
        "\n",
        "  for it in range(0, X_test.shape[0], BATCH): \n",
        "    batch = test_indices[it:it+BATCH] \n",
        "    test_prediction = predict(X_test[batch]).argmax(1)\n",
        "    test_acc += (np.array(test_prediction).flatten() == Y_test[batch]).sum()\n",
        "      \n",
        "  print('Test Accuracy %.2f' % (100*test_acc/X_test.shape[0]))\n",
        "\n",
        "test()"
      ],
      "execution_count": null,
      "outputs": [
        {
          "output_type": "stream",
          "name": "stdout",
          "text": [
            "Test Accuracy 29.74\n"
          ]
        }
      ]
    },
    {
      "cell_type": "markdown",
      "metadata": {
        "id": "Eye-uBnQWgc8"
      },
      "source": [
        "##**Problem 4. Open-Ended Exploration**\n",
        "\n",
        "**Additional hyperparameter tuning Come up with one or several hyperparameters that you have not tried in the previous parts (e.g., explore arguments of the method objax.nn.Cov2d), tune them on the validation set until you see (at-least) 5%-10% increase in the validation accuracy as compared to a base model.**"
      ]
    },
    {
      "cell_type": "markdown",
      "metadata": {
        "id": "lTpiGf72JxDM"
      },
      "source": [
        "### HYPERPARAMETERS:\n",
        "Tunning hyperparameters: <br>\n",
        "H = {Epochs, Batch, Learning_rate, Size of the convolution kernel (k), # of outputs of conv layer 1, # of outputs of conv layer 2}<br>\n",
        "> Newly introduced hyperparamters: 'Size of the convolution kernel', '# of outputs of conv layer 2'\n",
        "\n"
      ]
    },
    {
      "cell_type": "markdown",
      "metadata": {
        "id": "XY-GOg_WjE0X"
      },
      "source": [
        "### Base Model \n",
        "H_default = { Epochs = 20, Batch = 32, Learning_rate = 9e-4, k = 2, # of outputs of conv layer 1 = 16, # of outputs of conv layer 2 = 32}"
      ]
    },
    {
      "cell_type": "code",
      "metadata": {
        "id": "2dmWhEbBQH3w"
      },
      "source": [
        "class ConvNet(objax.Module):\n",
        "  def __init__(self, number_of_channels = 1, number_of_classes = 10):\n",
        "    self.conv_1 = objax.nn.Sequential([objax.nn.Conv2D(number_of_channels, 16, 2), objax.functional.relu]) \n",
        "    self.conv_2 = objax.nn.Sequential([objax.nn.Conv2D(16, 32, 2), objax.functional.relu]) \n",
        "    self.linear = objax.nn.Linear(32, number_of_classes)\n",
        "\n",
        "  def __call__(self, x):\n",
        "    x = objax.functional.max_pool_2d(self.conv_1(x), 2, 2)\n",
        "    x = self.conv_2(x)\n",
        "  \n",
        "    x = x.mean((2,3)) #<--- global average pooling \n",
        "    x = self.linear(x)\n",
        "    return x\n",
        "\n",
        "#The following line creates the CNN\n",
        "model = ConvNet()\n",
        "#You can examine the architecture of our CNN by calling model.vars()"
      ],
      "execution_count": null,
      "outputs": []
    },
    {
      "cell_type": "code",
      "metadata": {
        "id": "i8AyO39ygfyQ"
      },
      "source": [
        "#Define loss function as averaged value of of cross entropies\n",
        "def loss_function(x, labels):\n",
        "    logit = model(x)\n",
        "    return objax.functional.loss.cross_entropy_logits_sparse(logit, labels).mean()\n",
        "\n",
        "#Define a prediction function\n",
        "predict = objax.Jit(lambda x: objax.functional.softmax(model(x)), model.vars()) \n",
        "\n",
        "#Create an object that can be used to calculate the gradient and value of loss_function\n",
        "gv= objax.GradValues(loss_function, model.vars())\n",
        "\n",
        "#Create an object that can be used to provide trainable variables in the model\n",
        "tv = objax.ModuleList(objax.TrainRef(x) for x in model.vars().subset(objax.TrainVar))\n",
        "\n",
        "#Training routine\n",
        "def train_op(x, y, learning_rate):\n",
        "    lr = learning_rate\n",
        "    gradient, loss_value = gv(x, y)   # calculate gradient and loss value \"backprop\"\n",
        "    #next we update the trainable parameter using SGD and similar procedure\n",
        "    for grad, params in zip(gradient, tv.vars()):\n",
        "         params.value = params.value - lr*grad          \n",
        "    return loss_value                      # return loss value\n",
        "\n",
        "#make train_op (much) faster using JIT compilation\n",
        "train_op = objax.Jit(train_op, gv.vars() + tv.vars())"
      ],
      "execution_count": null,
      "outputs": []
    },
    {
      "cell_type": "code",
      "metadata": {
        "id": "4dn6FilIgr1a"
      },
      "source": [
        "def train(EPOCHS = 20, BATCH = 32, LEARNING_RATE = 9e-4):\n",
        "  avg_train_loss_epoch = []\n",
        "  avg_val_loss_epoch = []\n",
        "  train_acc_epoch = []\n",
        "  val_acc_epoch = []\n",
        "\n",
        "  for epoch in range(EPOCHS):\n",
        "      avg_train_loss = 0 # (averaged) training loss per batch\n",
        "      avg_val_loss =  0  # (averaged) validation loss per batch\n",
        "      train_acc = 0      # training accuracy per batch\n",
        "      val_acc = 0        # validation accuracy per batch\n",
        "\n",
        "      # shuffle the examples prior to training to remove correlation \n",
        "      train_indices = np.arange(len(X_train)) \n",
        "      np.random.shuffle(train_indices)\n",
        "      for it in range(0, X_train.shape[0], BATCH): \n",
        "          batch = train_indices[it:it+BATCH] #PUT YOUR CODE HERE#\n",
        "          avg_train_loss += float(train_op(X_train[batch], Y_train[batch], LEARNING_RATE)[0]) * len(batch)\n",
        "          train_prediction = predict(X_train[batch]).argmax(1)\n",
        "          train_acc += (np.array(train_prediction).flatten() == Y_train[batch]).sum()\n",
        "      train_acc_epoch.append(train_acc/X_train.shape[0])\n",
        "      avg_train_loss_epoch.append(avg_train_loss/X_train.shape[0])\n",
        "      \n",
        "\n",
        "      # run validation\n",
        "      val_indices = np.arange(len(X_valid)) \n",
        "      np.random.shuffle(val_indices)    \n",
        "      for it in range(0, X_valid.shape[0], BATCH):\n",
        "          batch = val_indices[it:it+BATCH] #PUT YOUR CODE HERE#\n",
        "          avg_val_loss += float(loss_function(X_valid[batch], Y_valid[batch])) * len(batch)\n",
        "          val_prediction = predict(X_valid[batch]).argmax(1)\n",
        "          val_acc += (np.array(val_prediction).flatten() == Y_valid[batch]).sum()\n",
        "      val_acc_epoch.append(val_acc/X_valid.shape[0])\n",
        "      avg_val_loss_epoch.append(avg_val_loss/X_valid.shape[0])\n",
        "\n",
        "      print('Epoch %04d  Training Loss %.2f Validation Loss %.2f Training Accuracy %.2f Validation Accuracy %.2f' % (epoch + 1, avg_train_loss/X_train.shape[0], avg_val_loss/X_valid.shape[0], 100*train_acc/X_train.shape[0], 100*val_acc/X_valid.shape[0]))\n",
        "  \n",
        "  #Plot training loss\n",
        "  plt.title(\"Train vs Validation Loss\")\n",
        "  plt.plot(avg_train_loss_epoch, label=\"Train\")\n",
        "  plt.plot(avg_val_loss_epoch, label=\"Validation\")\n",
        "  plt.xlabel(\"Epoch\")\n",
        "  plt.ylabel(\"Loss\")\n",
        "  plt.legend(loc='best')\n",
        "  plt.show()\n",
        "\n",
        "  plt.title(\"Train vs Validation Accuracy\")\n",
        "  plt.plot(train_acc_epoch, label=\"Train\")\n",
        "  plt.plot(val_acc_epoch, label=\"Validation\")\n",
        "  plt.xlabel(\"Epoch\")\n",
        "  plt.ylabel(\"Accuracy (%)\")\n",
        "  plt.legend(loc='best')\n",
        "  plt.show()"
      ],
      "execution_count": null,
      "outputs": []
    },
    {
      "cell_type": "code",
      "metadata": {
        "colab": {
          "base_uri": "https://localhost:8080/",
          "height": 920
        },
        "id": "dwN7o66DgvvE",
        "outputId": "91d5fdd4-9cd7-4577-b2cb-804eb2d59259"
      },
      "source": [
        "train()"
      ],
      "execution_count": null,
      "outputs": [
        {
          "output_type": "stream",
          "name": "stdout",
          "text": [
            "Epoch 0001  Training Loss 2.31 Validation Loss 2.30 Training Accuracy 9.89 Validation Accuracy 11.69\n",
            "Epoch 0002  Training Loss 2.30 Validation Loss 2.30 Training Accuracy 12.81 Validation Accuracy 14.14\n",
            "Epoch 0003  Training Loss 2.30 Validation Loss 2.30 Training Accuracy 14.99 Validation Accuracy 17.31\n",
            "Epoch 0004  Training Loss 2.29 Validation Loss 2.29 Training Accuracy 18.77 Validation Accuracy 20.43\n",
            "Epoch 0005  Training Loss 2.29 Validation Loss 2.29 Training Accuracy 20.75 Validation Accuracy 21.53\n",
            "Epoch 0006  Training Loss 2.29 Validation Loss 2.29 Training Accuracy 21.74 Validation Accuracy 21.64\n",
            "Epoch 0007  Training Loss 2.28 Validation Loss 2.28 Training Accuracy 21.26 Validation Accuracy 20.13\n",
            "Epoch 0008  Training Loss 2.28 Validation Loss 2.28 Training Accuracy 21.51 Validation Accuracy 20.99\n",
            "Epoch 0009  Training Loss 2.28 Validation Loss 2.28 Training Accuracy 21.74 Validation Accuracy 21.14\n",
            "Epoch 0010  Training Loss 2.27 Validation Loss 2.27 Training Accuracy 21.46 Validation Accuracy 21.10\n",
            "Epoch 0011  Training Loss 2.27 Validation Loss 2.27 Training Accuracy 21.67 Validation Accuracy 21.00\n",
            "Epoch 0012  Training Loss 2.27 Validation Loss 2.26 Training Accuracy 21.35 Validation Accuracy 21.03\n",
            "Epoch 0013  Training Loss 2.26 Validation Loss 2.26 Training Accuracy 21.46 Validation Accuracy 21.16\n",
            "Epoch 0014  Training Loss 2.26 Validation Loss 2.26 Training Accuracy 21.48 Validation Accuracy 21.19\n",
            "Epoch 0015  Training Loss 2.25 Validation Loss 2.25 Training Accuracy 21.61 Validation Accuracy 21.33\n",
            "Epoch 0016  Training Loss 2.25 Validation Loss 2.24 Training Accuracy 21.90 Validation Accuracy 21.39\n",
            "Epoch 0017  Training Loss 2.24 Validation Loss 2.24 Training Accuracy 21.76 Validation Accuracy 21.54\n",
            "Epoch 0018  Training Loss 2.23 Validation Loss 2.23 Training Accuracy 21.97 Validation Accuracy 21.61\n",
            "Epoch 0019  Training Loss 2.23 Validation Loss 2.23 Training Accuracy 21.84 Validation Accuracy 21.66\n",
            "Epoch 0020  Training Loss 2.22 Validation Loss 2.22 Training Accuracy 22.20 Validation Accuracy 21.56\n"
          ]
        },
        {
          "output_type": "display_data",
          "data": {
            "image/png": "[encoded data removed]",
            "text/plain": [
              "<Figure size 432x288 with 1 Axes>"
            ]
          },
          "metadata": {
            "needs_background": "light"
          }
        },
        {
          "output_type": "display_data",
          "data": {
            "image/png": "[encoded data removed]",
            "text/plain": [
              "<Figure size 432x288 with 1 Axes>"
            ]
          },
          "metadata": {
            "needs_background": "light"
          }
        }
      ]
    },
    {
      "cell_type": "code",
      "metadata": {
        "colab": {
          "base_uri": "https://localhost:8080/"
        },
        "id": "0YeygZCSw7v5",
        "outputId": "a474272f-2826-4ed9-d147-b45262bab8e7"
      },
      "source": [
        "def test(BATCH = 1):\n",
        "  test_loss = 0 # (averaged) loss per batch\n",
        "  test_acc = 0      # training accuracy per batch\n",
        "\n",
        "  # shuffle the data prior to training to remove correlation \n",
        "  test_indices = np.arange(len(X_test)) \n",
        "  np.random.shuffle(test_indices)\n",
        "\n",
        "  for it in range(0, X_test.shape[0], BATCH): \n",
        "    batch = test_indices[it:it+BATCH] \n",
        "    test_prediction = predict(X_test[batch]).argmax(1)\n",
        "    test_acc += (np.array(test_prediction).flatten() == Y_test[batch]).sum()\n",
        "      \n",
        "  print('Test Accuracy %.2f' % (100*test_acc/X_test.shape[0]))\n",
        "\n",
        "test()"
      ],
      "execution_count": null,
      "outputs": [
        {
          "output_type": "stream",
          "name": "stdout",
          "text": [
            "Test Accuracy 21.94\n"
          ]
        }
      ]
    },
    {
      "cell_type": "markdown",
      "metadata": {
        "id": "Y2Ej0rkljLMr"
      },
      "source": [
        "## Tuned Hyperparameter Model\n",
        "H_modified= { Epochs = 30, Batch = 56, Learning_rate = 0.005, k = 4, # of outputs of conv layer 1 = 32, # of outputs of conv layer 2 = 64}"
      ]
    },
    {
      "cell_type": "code",
      "metadata": {
        "id": "uqEiZetKUpdz"
      },
      "source": [
        "class ConvNet_Modified(objax.Module):\n",
        "  def __init__(self, number_of_channels = 1, number_of_classes = 10):\n",
        "    self.conv_1 = objax.nn.Sequential([objax.nn.Conv2D(number_of_channels, 32, 4), objax.functional.tanh]) # k = 2 -> 4\n",
        "    self.conv_2 = objax.nn.Sequential([objax.nn.Conv2D(32, 64, 4), objax.functional.tanh]) # k = 2 -> 4\n",
        "    self.linear = objax.nn.Linear(64, number_of_classes)\n",
        "\n",
        "  def __call__(self, x):\n",
        "    x = objax.functional.max_pool_2d(self.conv_1(x), 2, 2)\n",
        "    x = self.conv_2(x)\n",
        "  \n",
        "    x = x.mean((2,3)) #<--- global average pooling \n",
        "    x = self.linear(x)\n",
        "    return x\n",
        "\n",
        "#The following line creates the CNN\n",
        "model = ConvNet_Modified()\n",
        "#You can examine the architecture of our CNN by calling model.vars()"
      ],
      "execution_count": null,
      "outputs": []
    },
    {
      "cell_type": "code",
      "metadata": {
        "id": "YvMwDSD8VG_L"
      },
      "source": [
        "#Define loss function as averaged value of of cross entropies\n",
        "def loss_function(x, labels):\n",
        "    logit = model(x)\n",
        "    return objax.functional.loss.cross_entropy_logits_sparse(logit, labels).mean()\n",
        "\n",
        "#Define a prediction function\n",
        "predict = objax.Jit(lambda x: objax.functional.softmax(model(x)), model.vars()) \n",
        "\n",
        "#Create an object that can be used to calculate the gradient and value of loss_function\n",
        "gv= objax.GradValues(loss_function, model.vars())\n",
        "\n",
        "#Create an object that can be used to provide trainable variables in the model\n",
        "tv = objax.ModuleList(objax.TrainRef(x) for x in model.vars().subset(objax.TrainVar))\n",
        "\n",
        "#Training routine\n",
        "def train_op(x, y, learning_rate):\n",
        "    lr = learning_rate\n",
        "    gradient, loss_value = gv(x, y)   # calculate gradient and loss value \"backprop\"\n",
        "    #next we update the trainable parameter using SGD and similar procedure\n",
        "    for grad, params in zip(gradient, tv.vars()):\n",
        "         params.value = params.value - lr*grad          \n",
        "    return loss_value                      # return loss value\n",
        "\n",
        "#make train_op (much) faster using JIT compilation\n",
        "train_op = objax.Jit(train_op, gv.vars() + tv.vars())"
      ],
      "execution_count": null,
      "outputs": []
    },
    {
      "cell_type": "code",
      "metadata": {
        "id": "_q4IHBAF17Tq"
      },
      "source": [
        "def train(EPOCHS = 20, BATCH = 32, LEARNING_RATE = 9e-4):\n",
        "  avg_train_loss_epoch = []\n",
        "  avg_val_loss_epoch = []\n",
        "  train_acc_epoch = []\n",
        "  val_acc_epoch = []\n",
        "\n",
        "  for epoch in range(EPOCHS):\n",
        "      avg_train_loss = 0 # (averaged) training loss per batch\n",
        "      avg_val_loss =  0  # (averaged) validation loss per batch\n",
        "      train_acc = 0      # training accuracy per batch\n",
        "      val_acc = 0        # validation accuracy per batch\n",
        "\n",
        "      # shuffle the examples prior to training to remove correlation \n",
        "      train_indices = np.arange(len(X_train)) \n",
        "      np.random.shuffle(train_indices)\n",
        "      for it in range(0, X_train.shape[0], BATCH): \n",
        "          batch = train_indices[it:it+BATCH] #PUT YOUR CODE HERE#\n",
        "          avg_train_loss += float(train_op(X_train[batch], Y_train[batch], LEARNING_RATE)[0]) * len(batch)\n",
        "          train_prediction = predict(X_train[batch]).argmax(1)\n",
        "          train_acc += (np.array(train_prediction).flatten() == Y_train[batch]).sum()\n",
        "      train_acc_epoch.append(train_acc/X_train.shape[0])\n",
        "      avg_train_loss_epoch.append(avg_train_loss/X_train.shape[0])\n",
        "      \n",
        "\n",
        "      # run validation\n",
        "      val_indices = np.arange(len(X_valid)) \n",
        "      np.random.shuffle(val_indices)    \n",
        "      for it in range(0, X_valid.shape[0], BATCH):\n",
        "          batch = val_indices[it:it+BATCH] #PUT YOUR CODE HERE#\n",
        "          avg_val_loss += float(loss_function(X_valid[batch], Y_valid[batch])) * len(batch)\n",
        "          val_prediction = predict(X_valid[batch]).argmax(1)\n",
        "          val_acc += (np.array(val_prediction).flatten() == Y_valid[batch]).sum()\n",
        "      val_acc_epoch.append(val_acc/X_valid.shape[0])\n",
        "      avg_val_loss_epoch.append(avg_val_loss/X_valid.shape[0])\n",
        "\n",
        "      print('Epoch %04d  Training Loss %.2f Validation Loss %.2f Training Accuracy %.2f Validation Accuracy %.2f' % (epoch + 1, avg_train_loss/X_train.shape[0], avg_val_loss/X_valid.shape[0], 100*train_acc/X_train.shape[0], 100*val_acc/X_valid.shape[0]))\n",
        "  \n",
        "  #Plot training loss\n",
        "  plt.title(\"Train vs Validation Loss\")\n",
        "  plt.plot(avg_train_loss_epoch, label=\"Train\")\n",
        "  plt.plot(avg_val_loss_epoch, label=\"Validation\")\n",
        "  plt.xlabel(\"Epoch\")\n",
        "  plt.ylabel(\"Loss\")\n",
        "  plt.legend(loc='best')\n",
        "  plt.show()\n",
        "\n",
        "  plt.title(\"Train vs Validation Accuracy\")\n",
        "  plt.plot(train_acc_epoch, label=\"Train\")\n",
        "  plt.plot(val_acc_epoch, label=\"Validation\")\n",
        "  plt.xlabel(\"Epoch\")\n",
        "  plt.ylabel(\"Accuracy (%)\")\n",
        "  plt.legend(loc='best')\n",
        "  plt.show()"
      ],
      "execution_count": null,
      "outputs": []
    },
    {
      "cell_type": "code",
      "metadata": {
        "colab": {
          "base_uri": "https://localhost:8080/",
          "height": 1000
        },
        "id": "qkup0bDeVHre",
        "outputId": "7f7c39b1-040e-4ae2-f0e4-4a00c8ee4a98"
      },
      "source": [
        "train(EPOCHS = 30, BATCH = 56, LEARNING_RATE = 0.005)"
      ],
      "execution_count": null,
      "outputs": [
        {
          "output_type": "stream",
          "name": "stdout",
          "text": [
            "Epoch 0001  Training Loss 2.25 Validation Loss 2.20 Training Accuracy 17.69 Validation Accuracy 21.33\n",
            "Epoch 0002  Training Loss 2.14 Validation Loss 2.09 Training Accuracy 22.80 Validation Accuracy 22.86\n",
            "Epoch 0003  Training Loss 2.05 Validation Loss 2.02 Training Accuracy 25.09 Validation Accuracy 25.37\n",
            "Epoch 0004  Training Loss 1.99 Validation Loss 1.98 Training Accuracy 27.51 Validation Accuracy 26.66\n",
            "Epoch 0005  Training Loss 1.95 Validation Loss 1.95 Training Accuracy 28.91 Validation Accuracy 28.56\n",
            "Epoch 0006  Training Loss 1.92 Validation Loss 1.92 Training Accuracy 30.23 Validation Accuracy 29.84\n",
            "Epoch 0007  Training Loss 1.90 Validation Loss 1.90 Training Accuracy 31.40 Validation Accuracy 30.59\n",
            "Epoch 0008  Training Loss 1.88 Validation Loss 1.89 Training Accuracy 32.34 Validation Accuracy 31.69\n",
            "Epoch 0009  Training Loss 1.87 Validation Loss 1.87 Training Accuracy 33.75 Validation Accuracy 32.94\n",
            "Epoch 0010  Training Loss 1.85 Validation Loss 1.86 Training Accuracy 35.05 Validation Accuracy 34.24\n",
            "Epoch 0011  Training Loss 1.83 Validation Loss 1.84 Training Accuracy 36.05 Validation Accuracy 35.83\n",
            "Epoch 0012  Training Loss 1.82 Validation Loss 1.82 Training Accuracy 37.92 Validation Accuracy 37.70\n",
            "Epoch 0013  Training Loss 1.80 Validation Loss 1.81 Training Accuracy 39.19 Validation Accuracy 38.41\n",
            "Epoch 0014  Training Loss 1.78 Validation Loss 1.79 Training Accuracy 40.36 Validation Accuracy 40.34\n",
            "Epoch 0015  Training Loss 1.77 Validation Loss 1.77 Training Accuracy 41.87 Validation Accuracy 41.96\n",
            "Epoch 0016  Training Loss 1.75 Validation Loss 1.75 Training Accuracy 43.23 Validation Accuracy 43.10\n",
            "Epoch 0017  Training Loss 1.72 Validation Loss 1.72 Training Accuracy 44.76 Validation Accuracy 44.99\n",
            "Epoch 0018  Training Loss 1.70 Validation Loss 1.70 Training Accuracy 46.22 Validation Accuracy 46.21\n",
            "Epoch 0019  Training Loss 1.67 Validation Loss 1.67 Training Accuracy 47.49 Validation Accuracy 46.74\n",
            "Epoch 0020  Training Loss 1.65 Validation Loss 1.64 Training Accuracy 48.81 Validation Accuracy 48.96\n",
            "Epoch 0021  Training Loss 1.62 Validation Loss 1.62 Training Accuracy 50.11 Validation Accuracy 50.51\n",
            "Epoch 0022  Training Loss 1.59 Validation Loss 1.59 Training Accuracy 51.65 Validation Accuracy 52.87\n",
            "Epoch 0023  Training Loss 1.57 Validation Loss 1.56 Training Accuracy 53.42 Validation Accuracy 53.10\n",
            "Epoch 0024  Training Loss 1.54 Validation Loss 1.53 Training Accuracy 54.59 Validation Accuracy 54.51\n",
            "Epoch 0025  Training Loss 1.51 Validation Loss 1.50 Training Accuracy 56.01 Validation Accuracy 55.74\n",
            "Epoch 0026  Training Loss 1.48 Validation Loss 1.48 Training Accuracy 57.41 Validation Accuracy 57.86\n",
            "Epoch 0027  Training Loss 1.46 Validation Loss 1.45 Training Accuracy 58.59 Validation Accuracy 58.53\n",
            "Epoch 0028  Training Loss 1.43 Validation Loss 1.43 Training Accuracy 59.98 Validation Accuracy 60.19\n",
            "Epoch 0029  Training Loss 1.40 Validation Loss 1.40 Training Accuracy 60.92 Validation Accuracy 62.00\n",
            "Epoch 0030  Training Loss 1.38 Validation Loss 1.37 Training Accuracy 62.32 Validation Accuracy 61.86\n"
          ]
        },
        {
          "output_type": "display_data",
          "data": {
            "image/png": "[encoded data removed]",
            "text/plain": [
              "<Figure size 432x288 with 1 Axes>"
            ]
          },
          "metadata": {
            "needs_background": "light"
          }
        },
        {
          "output_type": "display_data",
          "data": {
            "image/png": "[encoded data removed]",
            "text/plain": [
              "<Figure size 432x288 with 1 Axes>"
            ]
          },
          "metadata": {
            "needs_background": "light"
          }
        }
      ]
    },
    {
      "cell_type": "code",
      "metadata": {
        "colab": {
          "base_uri": "https://localhost:8080/"
        },
        "id": "SR1BphMOxANU",
        "outputId": "40d4ac67-c520-491a-d9fd-16114bf63200"
      },
      "source": [
        "def test(BATCH = 1):\n",
        "  test_loss = 0 # loss per batch\n",
        "  test_acc = 0      # training accuracy per batch\n",
        "\n",
        "  # shuffle the data prior to training to remove correlation \n",
        "  test_indices = np.arange(len(X_test)) \n",
        "  np.random.shuffle(test_indices)\n",
        "\n",
        "  for it in range(0, X_test.shape[0], BATCH): \n",
        "    batch = test_indices[it:it+BATCH] \n",
        "    test_prediction = predict(X_test[batch]).argmax(1)\n",
        "    test_acc += (np.array(test_prediction).flatten() == Y_test[batch]).sum()\n",
        "      \n",
        "  print('Test Accuracy %.2f' % (100*test_acc/X_test.shape[0]))\n",
        "\n",
        "test()"
      ],
      "execution_count": null,
      "outputs": [
        {
          "output_type": "stream",
          "name": "stdout",
          "text": [
            "Test Accuracy 62.41\n"
          ]
        }
      ]
    },
    {
      "cell_type": "markdown",
      "metadata": {
        "id": "e9nRp2LsKhb0"
      },
      "source": [
        "**Discuss whether it performs well on the test set as compared to your base model.** <br>\n",
        "\n",
        "Test Accuracy for Base Model: 22.97% <br>\n",
        "> H_default = { Epochs = 20, Batch = 32, Learning_rate = 9e-4, k = 2, Activation_Function = relu} \n",
        "\n",
        "Test Accuracy for Modified Model: 62.41% <br>\n",
        "> H_modified= { Epochs = 30, Batch = 56, Learning_rate = 0.005, k = 4, Activation_Function = tanh} <br>\n",
        "\n",
        "\n",
        "\n",
        "\n",
        "The test accuracy for the modified model is almost triple the test accuracy of the base model. This clearly tells that the tuned hyperparameter has improved the model. \n",
        "\n",
        "\n"
      ]
    }
  ]
}
